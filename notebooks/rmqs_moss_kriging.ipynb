{
 "cells": [
  {
   "cell_type": "markdown",
   "metadata": {},
   "source": [
    "# CoKrigeage RMQS - Mousse\n",
    "\n",
    "Dans ce notebook, on cherche à effectuer le krigeage de la concentration dans l'air en un certain élément à partir du [jeu de données RMQS](../data/RMQS.csv). Pour améliorer cet estimation de la varibale, on cherche ensuite à effectuer une co-krigeage à l'aide des [données de concentration de cet élément dans les mousses](../data/moss.csv).\n",
    "\n",
    ":warning: Il est toutefois important de noter que les données RMQS ne remontent que jusqu'à 2009 tandis que les données sur les mousses datent de 2021. cet écart signicatif pourrait donc être la cause d'éventuels résultats médiocres. :warning:"
   ]
  },
  {
   "cell_type": "code",
   "execution_count": null,
   "metadata": {},
   "outputs": [],
   "source": [
    "%load_ext autoreload\n",
    "%autoreload 2"
   ]
  },
  {
   "cell_type": "code",
   "execution_count": null,
   "metadata": {},
   "outputs": [],
   "source": [
    "from bramm_data_analysis import loaders\n",
    "from pathlib import Path\n",
    "import gstlearn as gl\n",
    "import gstlearn.plot as gp\n",
    "from bramm_data_analysis.matching import Matcher\n",
    "from bramm_data_analysis.loaders.preprocessing import QuantileThreshold\n",
    "import matplotlib.pyplot as plt\n",
    "import numpy as np"
   ]
  },
  {
   "cell_type": "markdown",
   "metadata": {},
   "source": [
    "## Chargement des Données"
   ]
  },
  {
   "cell_type": "markdown",
   "metadata": {},
   "source": [
    "### Définition des variables d'intérêt"
   ]
  },
  {
   "cell_type": "code",
   "execution_count": null,
   "metadata": {
    "tags": []
   },
   "outputs": [],
   "source": [
    "z_moss = \"aluminium\"\n",
    "z_rmqs = \"al_tot_hf\""
   ]
  },
  {
   "cell_type": "markdown",
   "metadata": {},
   "source": [
    "### Chargement des Données\n",
    "\n",
    "La gestion des valeurs dupliquées se fait en deux étapes. Dans un premier temps, on aggrège les données correspondants à un même échantillon (les données ayant même date, même longitude et même latitude), en faisant leur moyenne. Ensuite, si il reste des données ayant la même position spatial (il n'est plus question de date ici), on conserve les données les plus récentes.\n",
    "\n",
    "On s'assure ensuite de l'absence de `NaN` dans les données et on convertit le jeu de données (on conservant seulement la longitude, la latitute et les valeurs de cuivre) au format `Db` de `gstlearn` pour effectuer un premier krigeage.\n",
    "\n",
    "Se référer au module [loaders](../src/bramm_data_analysis/loaders/__init__.py) pour plus d'informations."
   ]
  },
  {
   "cell_type": "markdown",
   "metadata": {},
   "source": [
    "##### DataFrame Mousse"
   ]
  },
  {
   "cell_type": "code",
   "execution_count": null,
   "metadata": {},
   "outputs": [],
   "source": [
    "moss_data_path = Path(\"../data/Mines_2024.xlsx\")\n",
    "df_moss = loaders.from_moss_csv(moss_data_path).retrieve_filtered_df(\n",
    "    fields=[\"longitude\", \"latitude\", \"date\", z_moss],\n",
    "    duplicates_handling_strategy=\"mean\",\n",
    "    thresholds=[QuantileThreshold(field=z_moss, lower=0.05, upper=0.95)],\n",
    ")\n",
    "# A threshold is set to remove potential outliers.\n",
    "# It consists in the removal of the top and bottom 5% of values of the data."
   ]
  },
  {
   "cell_type": "markdown",
   "metadata": {},
   "source": [
    "##### DataFrame RMQS"
   ]
  },
  {
   "cell_type": "code",
   "execution_count": null,
   "metadata": {},
   "outputs": [],
   "source": [
    "rmqs_data_path = Path(\"../data/RMQS.csv\")\n",
    "df_rmqs = loaders.from_rmqs_csv(rmqs_data_path).retrieve_filtered_df(\n",
    "    fields=[\"longitude\", \"latitude\", \"date_complete\", z_rmqs],\n",
    "    duplicates_handling_strategy=\"mean\",\n",
    "    thresholds=[QuantileThreshold(field=z_rmqs, lower=0.05, upper=0.95)],\n",
    ")\n",
    "# A threshold is set to remove potential outliers.\n",
    "# It consists in the removal of the top and bottom 5% of values of the data."
   ]
  },
  {
   "cell_type": "markdown",
   "metadata": {},
   "source": [
    "##### Correspondance Mousse RMQS\n",
    "\n",
    "Les données de Mousse et RMQS n'étant pas échantillonnées aux mêmes endroits, il est nécessaire de faire correspondre les lieu d'échantillonnage de mousse et des données RMQS.\n",
    "\n",
    "Pour cela, le module [matching](../src/bramm_data_analysis/matching.py) définit un ensemble d'objects permettant, sur la base de l'[algorithme des plus proches voisins implémenté par sklearn](https://scikit-learn.org/stable/modules/generated/sklearn.neighbors.NearestNeighbors.html), de récupérer les données RMQS situées à proximité des sites d'échantillonnage des mousses. On définit pour cela un rayon maximal d'action, `km_threshold`. S'il n'y a pas de données RMQS dans la sphère définie par ce rayon, le site d'échantillonnage de mousse est écarté pour la suite. \n",
    "\n",
    "Une fois cette correspondance effectuée, on conserve les données de mousses auxquelles ont été rapprochées des données RMQS en tant que \"jeu d'entraînement\" et les données RMQS non attribuées (appelées dans la suite `leftovers`) en tant que \"jeu de validation\"."
   ]
  },
  {
   "cell_type": "code",
   "execution_count": null,
   "metadata": {},
   "outputs": [],
   "source": [
    "# Matching\n",
    "data_matcher = Matcher(km_threshold=10, year_threshold=2000)\n",
    "matched_df, leftovers = data_matcher.match_rmqs_to_moss(\n",
    "    df_moss,  # Moss Data\n",
    "    df_rmqs,  # RMQS Data\n",
    "    radians=False,  # Longitude and Latitude are in degree\n",
    "    leftovers=True,  # Output Leftovers\n",
    ")\n",
    "print(\n",
    "    f\" Year Threshold : {data_matcher.year_threshold} \\n\",\n",
    "    f\"Distance Threshold : {data_matcher.km_threshold} km \\n\",\n",
    "    f\"Conserved : {matched_df.shape[0]} / {df_moss.shape[0]}\",\n",
    ")\n",
    "# Visualisation\n",
    "# Plot Leftovers\n",
    "plt.scatter(\n",
    "    leftovers[\"longitude\"],\n",
    "    leftovers[\"latitude\"],\n",
    "    label=\"RMQS Leftovers\",\n",
    "    alpha=0.4,\n",
    "    color=\"grey\",\n",
    ")\n",
    "# Plot Moss' convserved data points.\n",
    "plt.scatter(\n",
    "    matched_df[f\"longitude{data_matcher.moss_suffix}\"],\n",
    "    matched_df[f\"latitude{data_matcher.moss_suffix}\"],\n",
    "    label=\"Conserved Moss Samples\",\n",
    "    alpha=0.5,\n",
    "    color=\"green\",\n",
    ")\n",
    "# Plot RMQS' conserved data points.\n",
    "plt.scatter(\n",
    "    matched_df[f\"longitude{data_matcher.rmqs_suffix}\"],\n",
    "    matched_df[f\"latitude{data_matcher.rmqs_suffix}\"],\n",
    "    label=\"Matched RMQS DataPoints\",\n",
    "    alpha=0.5,\n",
    "    color=\"red\",\n",
    ")\n",
    "plt.title(\"RMQS - Moss Matching Visualization\")\n",
    "plt.xlabel(\"Longitude\")\n",
    "plt.ylabel(\"Latitude\")\n",
    "plt.legend()\n",
    "plt.plot()"
   ]
  },
  {
   "cell_type": "markdown",
   "metadata": {},
   "source": [
    "Une fois cette correspondance effectuée, on dispose donc d'un jeu de données constitué d'une grille de points possédant chacun une valeur de concentration de métal dans l'air (depuis les données RMQS) et une valeur de concentration de métal dans les mousses (depuis les données de mousses)."
   ]
  },
  {
   "cell_type": "markdown",
   "metadata": {},
   "source": [
    "##### Conversion en `Db`\n",
    "\n",
    "On convertit ensuite les `DataFrame` en `Db` afin d'utiliser la libraire [`gstlearn`](https://gstlearn.org/)."
   ]
  },
  {
   "cell_type": "code",
   "execution_count": null,
   "metadata": {},
   "outputs": [],
   "source": [
    "# Rename longitude and latitude fields.\n",
    "sliced_df = matched_df.rename(\n",
    "    columns={\"longitude_moss\": \"longitude\", \"latitude_moss\": \"latitude\"}\n",
    ").filter([\"latitude\", \"longitude\", z_moss, z_rmqs])\n",
    "\n",
    "# Convert matched data to Db and set locators\n",
    "db_match = gl.Db_fromPanda(sliced_df)\n",
    "db_match.setLocators([\"longitude\", \"latitude\"], gl.ELoc.X)\n",
    "db_match.setLocator(z_rmqs, gl.ELoc.Z)\n",
    "\n",
    "# Convert unmatched RMQS data to Db and set locators\n",
    "db_leftovers = gl.Db_fromPanda(leftovers)\n",
    "db_leftovers.setLocators([\"longitude\", \"latitude\"], gl.ELoc.X)\n",
    "db_leftovers.setLocator(z_rmqs, gl.ELoc.Z)"
   ]
  },
  {
   "cell_type": "markdown",
   "metadata": {},
   "source": [
    "## Krigeage Ordinaire"
   ]
  },
  {
   "cell_type": "markdown",
   "metadata": {},
   "source": [
    "### Variogramme\n",
    "\n",
    "On effectue dans un premier temps un variogramme pour analyser les données. "
   ]
  },
  {
   "cell_type": "code",
   "execution_count": null,
   "metadata": {},
   "outputs": [],
   "source": [
    "varioParamMulti = gl.VarioParam.createMultiple(ndir=2, npas=8, dpas=0.5)\n",
    "vario2dir = gl.Vario(varioParamMulti)\n",
    "err = vario2dir.compute(db_match)\n",
    "fitmod = gl.Model()\n",
    "types = [gl.ECov.NUGGET, gl.ECov.EXPONENTIAL, gl.ECov.GAUSSIAN]\n",
    "err = fitmod.fit(vario2dir, types=types)\n",
    "ax = gp.varmod(vario2dir, fitmod)"
   ]
  },
  {
   "cell_type": "markdown",
   "metadata": {},
   "source": [
    "### Krigeage\n",
    "\n",
    "On effectue un krigeage ordinaire dans un premier temps, en utilisant uniquement les données RMQS du \"jeu d'entraînement\"."
   ]
  },
  {
   "cell_type": "code",
   "execution_count": null,
   "metadata": {},
   "outputs": [],
   "source": [
    "err = gl.kriging(\n",
    "    dbin=db_match,\n",
    "    dbout=db_leftovers,\n",
    "    model=fitmod,\n",
    "    neigh=gl.NeighUnique.create(),  # Use Unique Neighborhood\n",
    "    flag_est=True,\n",
    "    flag_std=True,\n",
    "    flag_varz=False,\n",
    "    namconv=gl.NamingConvention(\"OK\"),\n",
    ")"
   ]
  },
  {
   "cell_type": "markdown",
   "metadata": {},
   "source": [
    "##### Visualisation des Résultats du Krigeage\n",
    "\n",
    "On va ensuite visualiser :\n",
    "- Les données réelles\n",
    "- Les données obtenues par krigeage\n",
    "- L'écart de krigeage\n",
    "- L'écart relatif $\\frac{valeurs\\_reelles - valeurs\\_predites}{valeurs\\_reelles}$"
   ]
  },
  {
   "cell_type": "code",
   "execution_count": null,
   "metadata": {},
   "outputs": [],
   "source": [
    "vmin = np.min(db_leftovers[z_rmqs])\n",
    "vmax = np.max(db_leftovers[z_rmqs])\n",
    "\n",
    "fig, axes = plt.subplots(2, 2, figsize=(20, 20))\n",
    "\n",
    "# Real Values\n",
    "fig.add_subplot(2, 2, 1)\n",
    "ax = db_match.plot(flagCst=True, color=\"red\")\n",
    "ax = db_leftovers.plot(\n",
    "    f\"{z_rmqs}\",\n",
    "    flagLegendColor=True,\n",
    "    zorder=-1,\n",
    "    vmin=vmin,\n",
    "    vmax=vmax,\n",
    "    size=50,\n",
    ")\n",
    "ax.decoration(title=f\"{z_rmqs} - True Values\")\n",
    "\n",
    "# Predicted Values\n",
    "fig.add_subplot(2, 2, 2)\n",
    "ax = db_match.plot(flagCst=True, color=\"red\")\n",
    "ax = db_leftovers.plot(\n",
    "    f\"OK.{z_rmqs}.estim\",\n",
    "    flagLegendColor=True,\n",
    "    zorder=-1,\n",
    "    vmin=vmin,\n",
    "    vmax=vmax,\n",
    "    size=50,\n",
    ")\n",
    "ax.decoration(title=f\"{z_rmqs} - Ordinary Kriging\")\n",
    "\n",
    "# Kriging Standard deviation\n",
    "fig.add_subplot(2, 2, 3)\n",
    "ax = db_match.plot(flagCst=True, color=\"red\")\n",
    "ax = db_leftovers.plot(\n",
    "    f\"OK.{z_rmqs}.stdev\",\n",
    "    flagLegendColor=True,\n",
    "    zorder=-1,\n",
    "    size=50,\n",
    ")\n",
    "ax.decoration(title=f\"{z_rmqs} - Ordinary Kriging (stdev)\")\n",
    "\n",
    "# Relative Error\n",
    "true_vals = db_leftovers[z_rmqs]\n",
    "pred_vals = db_leftovers[f\"OK.{z_rmqs}.estim\"]\n",
    "db_leftovers[\"absolute_error\"] = (true_vals - pred_vals) / true_vals\n",
    "\n",
    "fig.add_subplot(2, 2, 4)\n",
    "db_match.plot(flagCst=True, color=\"red\")\n",
    "ax = db_leftovers.plot(\n",
    "    \"absolute_error\",\n",
    "    flagLegendColor=True,\n",
    "    zorder=-1,\n",
    "    size=50,\n",
    ")\n",
    "ax.decoration(title=f\"{z_rmqs} - Relative Error\")\n",
    "plt.show()"
   ]
  },
  {
   "cell_type": "markdown",
   "metadata": {},
   "source": [
    "## CoKrigeage\n",
    "\n",
    "On effectue ensuite un Cokrigeage, en utilisant à la fois les données RMQS du \"jeu d'entraînement\" ainsi que les données des mousses."
   ]
  },
  {
   "cell_type": "code",
   "execution_count": null,
   "metadata": {},
   "outputs": [],
   "source": [
    "# Update Locators\n",
    "db_match.setLocators([z_rmqs, z_moss], gl.ELoc.Z)"
   ]
  },
  {
   "cell_type": "markdown",
   "metadata": {},
   "source": [
    "### Variogramme"
   ]
  },
  {
   "cell_type": "code",
   "execution_count": null,
   "metadata": {},
   "outputs": [],
   "source": [
    "varioexp2var = gl.Vario.create(varioParamMulti)\n",
    "err = varioexp2var.compute(db_match)\n",
    "fitmod2var = gl.Model()\n",
    "err = fitmod2var.fit(\n",
    "    varioexp2var,\n",
    "    types=[gl.ECov.NUGGET, gl.ECov.EXPONENTIAL, gl.ECov.CUBIC, gl.ECov.LINEAR],\n",
    ")\n",
    "fitmod2var.setDriftIRF(0, 0)\n",
    "ax = gp.varmod(varioexp2var, fitmod2var, lw=2)\n",
    "gp.decoration(ax, title=f\"{z_rmqs} and {z_moss}\")"
   ]
  },
  {
   "cell_type": "markdown",
   "metadata": {},
   "source": [
    "### Krigeage"
   ]
  },
  {
   "cell_type": "code",
   "execution_count": null,
   "metadata": {},
   "outputs": [],
   "source": [
    "err = gl.kriging(\n",
    "    dbin=db_match,\n",
    "    dbout=db_leftovers,\n",
    "    model=fitmod2var,\n",
    "    neigh=gl.NeighUnique.create(),  # Use Unique Neighborhood\n",
    "    namconv=gl.NamingConvention.create(prefix=\"COK\"),\n",
    ")"
   ]
  },
  {
   "cell_type": "markdown",
   "metadata": {},
   "source": [
    "##### Visualisation des Résultats du Krigeage\n",
    "\n",
    "On va ensuite visualiser :\n",
    "- Les données réelles\n",
    "- Les données obtenues par krigeage\n",
    "- L'écart de krigeage\n",
    "- L'écart relatif $\\frac{valeurs\\_reelles - valeurs\\_predites}{valeurs\\_reelles}$"
   ]
  },
  {
   "cell_type": "code",
   "execution_count": null,
   "metadata": {},
   "outputs": [],
   "source": [
    "vmin = np.min(db_leftovers[z_rmqs])\n",
    "vmax = np.max(db_leftovers[z_rmqs])\n",
    "\n",
    "fig, axes = plt.subplots(2, 2, figsize=(20, 20))\n",
    "\n",
    "# Real Values\n",
    "fig.add_subplot(2, 2, 1)\n",
    "ax = db_match.plot(flagCst=True, color=\"red\")\n",
    "ax = db_leftovers.plot(\n",
    "    f\"{z_rmqs}\",\n",
    "    flagLegendColor=True,\n",
    "    zorder=-1,\n",
    "    vmin=vmin,\n",
    "    vmax=vmax,\n",
    "    size=50,\n",
    ")\n",
    "ax.decoration(title=f\"{z_rmqs} - True Values\")\n",
    "\n",
    "# Predicted Values\n",
    "fig.add_subplot(2, 2, 2)\n",
    "ax = db_match.plot(flagCst=True, color=\"red\")\n",
    "ax = db_leftovers.plot(\n",
    "    f\"COK.{z_rmqs}.estim\",\n",
    "    flagLegendColor=True,\n",
    "    zorder=-1,\n",
    "    vmin=vmin,\n",
    "    vmax=vmax,\n",
    "    size=50,\n",
    ")\n",
    "ax.decoration(title=f\"{z_rmqs} - CoKriging\")\n",
    "\n",
    "# Kriging Standard deviation\n",
    "ax0 = fig.add_subplot(2, 2, 3)\n",
    "ax = db_match.plot(flagCst=True, color=\"red\")\n",
    "ax = db_leftovers.plot(\n",
    "    f\"COK.{z_rmqs}.stdev\",\n",
    "    flagLegendColor=True,\n",
    "    zorder=-1,\n",
    "    size=50,\n",
    ")\n",
    "ax.decoration(title=f\"{z_rmqs} - CoKriging (stdev)\")\n",
    "\n",
    "# Relative Error\n",
    "true_vals = db_leftovers[z_rmqs]\n",
    "pred_vals = db_leftovers[f\"COK.{z_rmqs}.estim\"]\n",
    "db_leftovers[\"absolute_error\"] = (true_vals - pred_vals) / true_vals\n",
    "\n",
    "fig.add_subplot(2, 2, 4)\n",
    "db_match.plot(flagCst=True, color=\"red\")\n",
    "ax = db_leftovers.plot(\n",
    "    \"absolute_error\",\n",
    "    flagLegendColor=True,\n",
    "    zorder=-1,\n",
    "    size=50,\n",
    ")\n",
    "ax.decoration(title=f\"{z_rmqs} - Relative Error\")\n",
    "plt.show()"
   ]
  },
  {
   "cell_type": "markdown",
   "metadata": {},
   "source": [
    "## Comparaison des Résultats"
   ]
  },
  {
   "cell_type": "code",
   "execution_count": null,
   "metadata": {},
   "outputs": [],
   "source": [
    "from sklearn.metrics import mean_squared_error\n",
    "import numpy as np"
   ]
  },
  {
   "cell_type": "code",
   "execution_count": null,
   "metadata": {},
   "outputs": [],
   "source": [
    "ordinary_kriging_score = np.sqrt(\n",
    "    mean_squared_error(\n",
    "        db_leftovers[z_rmqs], db_leftovers[f\"COK.{z_rmqs}.estim\"]\n",
    "    )\n",
    ")\n",
    "\n",
    "cokriging_score = np.sqrt(\n",
    "    mean_squared_error(\n",
    "        db_leftovers[z_rmqs], db_leftovers[f\"OK.{z_rmqs}.estim\"]\n",
    "    )\n",
    ")\n",
    "print(\n",
    "    f\"Ordinary Kriging Results : {ordinary_kriging_score}\\n\",\n",
    "    f\"CoKriging Results : {cokriging_score}\\n\",\n",
    "    sep=\"\",\n",
    ")"
   ]
  },
  {
   "cell_type": "markdown",
   "metadata": {},
   "source": [
    "Le Co-Krigeage semble améliorer faiblement les résultats, en terme de RMSE."
   ]
  },
  {
   "cell_type": "code",
   "execution_count": null,
   "metadata": {},
   "outputs": [],
   "source": [
    "opers = gl.EStatOption.fromKeys([\"NUM\", \"MINI\", \"MAXI\", \"MEAN\", \"STDV\"])\n",
    "gl.dbStatisticsPrint(\n",
    "    db_leftovers,\n",
    "    names=([f\"OK.{z_rmqs}.*\"]),\n",
    "    opers=opers,\n",
    "    title=\"Statistics on the Ordinary Kriging predictions\",\n",
    ")\n",
    "gl.dbStatisticsPrint(\n",
    "    db_leftovers,\n",
    "    names=([f\"COK.{z_rmqs}.*\"]),\n",
    "    opers=opers,\n",
    "    title=\"Statistics on the Ordinary CoKriging predictions\",\n",
    ")"
   ]
  },
  {
   "cell_type": "markdown",
   "metadata": {},
   "source": [
    "On constate que le co-krigeage augmente légèrement l'étendue des données prédites et augmente également légèrement l'écart type des données prédites (dans le cas de l'aluminium)."
   ]
  },
  {
   "cell_type": "markdown",
   "metadata": {},
   "source": [
    "Pour explorer plus en détail le jeu de données, n'héstez pas à rejouer ce notebook avec différentes variables, par exemple :\n",
    "\n",
    "```python\n",
    "z_moss = \"iron\"\n",
    "r_rmqs = \"fe_tot_hf\"\n",
    "```\n",
    "\n",
    "```python\n",
    "z_moss = \"copper\"\n",
    "r_rmqs = \"cu_tot_hf\"\n",
    "```\n",
    "\n",
    "``` python\n",
    "z_moss = \"calcium\"\n",
    "r_rmqs = \"ca_tot_hf\"\n",
    "```\n",
    "\n",
    "Il est également possible de modifier le rayon lors de la correspondance RMQS - Mousse, pour augmenter (resp diminuer) le nombre de points dans le jeu de données en augmentant (resp diminuant) la valeur de `km_threshold`, dans la section [Correspondance des données Mousse et RMQS](#correspondance-mousse-rmqs)."
   ]
  }
 ],
 "metadata": {
  "kernelspec": {
   "display_name": ".venv",
   "language": "python",
   "name": "python3"
  },
  "language_info": {
   "codemirror_mode": {
    "name": "ipython",
    "version": 3
   },
   "file_extension": ".py",
   "mimetype": "text/x-python",
   "name": "python",
   "nbconvert_exporter": "python",
   "pygments_lexer": "ipython3",
   "version": "3.11.6"
  }
 },
 "nbformat": 4,
 "nbformat_minor": 2
}
