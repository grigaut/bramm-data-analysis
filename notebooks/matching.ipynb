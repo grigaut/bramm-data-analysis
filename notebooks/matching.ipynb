{
 "cells": [
  {
   "cell_type": "code",
   "execution_count": null,
   "metadata": {},
   "outputs": [],
   "source": [
    "%load_ext autoreload\n",
    "%autoreload 2"
   ]
  },
  {
   "cell_type": "code",
   "execution_count": null,
   "metadata": {},
   "outputs": [],
   "source": [
    "import pandas as pd\n",
    "from pathlib import Path\n",
    "from sklearn.neighbors import NearestNeighbors\n",
    "from bramm_data_analysis import preprocessing\n",
    "from bramm_data_analysis.matching import Matcher\n",
    "import matplotlib.pyplot as plt"
   ]
  },
  {
   "cell_type": "markdown",
   "metadata": {},
   "source": [
    "# Load Data"
   ]
  },
  {
   "cell_type": "markdown",
   "metadata": {},
   "source": [
    "### Load Moss Data"
   ]
  },
  {
   "cell_type": "code",
   "execution_count": null,
   "metadata": {},
   "outputs": [],
   "source": [
    "moss_data_path = Path(\"../data/Mines_2024.xlsx\")\n",
    "df_moss = preprocessing.MossPreprocessor(moss_data_path).load_preprocess()"
   ]
  },
  {
   "cell_type": "markdown",
   "metadata": {},
   "source": [
    "### Load RMQS Data"
   ]
  },
  {
   "cell_type": "code",
   "execution_count": null,
   "metadata": {},
   "outputs": [],
   "source": [
    "rmqs_data_path = Path(\"../data/RMQS.csv\")\n",
    "df_rmqs = preprocessing.RMQSPreprocessor(rmqs_data_path).load_preprocess()"
   ]
  },
  {
   "cell_type": "code",
   "execution_count": null,
   "metadata": {},
   "outputs": [],
   "source": [
    "df_rmqs[\"date_complete\"].dt.year.hist()"
   ]
  },
  {
   "cell_type": "markdown",
   "metadata": {},
   "source": [
    "## Closest Points Matching"
   ]
  },
  {
   "cell_type": "markdown",
   "metadata": {},
   "source": [
    "### Actual Matching"
   ]
  },
  {
   "cell_type": "code",
   "execution_count": null,
   "metadata": {},
   "outputs": [],
   "source": [
    "data_matcher = Matcher(km_threshold=10)\n",
    "matched_df = data_matcher.match_rmqs_to_moss(\n",
    "    df_moss,\n",
    "    df_rmqs,\n",
    "    radians=False,\n",
    ")"
   ]
  },
  {
   "cell_type": "code",
   "execution_count": null,
   "metadata": {},
   "outputs": [],
   "source": [
    "print(\n",
    "    f\" Year Threshold : {data_matcher.year_threshold} \\n\",\n",
    "    f\"Distance Threshold : {data_matcher.km_threshold} km \\n\",\n",
    "    f\"Conserved : {matched_df.shape[0]} / {df_moss.shape[0]}\",\n",
    ")"
   ]
  },
  {
   "cell_type": "markdown",
   "metadata": {},
   "source": [
    "### Matched Data Visualization"
   ]
  },
  {
   "cell_type": "code",
   "execution_count": null,
   "metadata": {},
   "outputs": [],
   "source": [
    "plt.scatter(\n",
    "    df_moss[\"longitude\"],\n",
    "    df_moss[\"latitude\"],\n",
    "    label=\"all moss\",\n",
    "    alpha=0.4,\n",
    "    color=\"grey\",\n",
    ")\n",
    "plt.scatter(\n",
    "    matched_df[f\"longitude{data_matcher.moss_suffix}\"],\n",
    "    matched_df[f\"latitude{data_matcher.moss_suffix}\"],\n",
    "    label=\"Moss\",\n",
    "    alpha=0.5,\n",
    "    color=\"green\",\n",
    ")\n",
    "plt.scatter(\n",
    "    matched_df[f\"longitude{data_matcher.rmqs_suffix}\"],\n",
    "    matched_df[f\"latitude{data_matcher.rmqs_suffix}\"],\n",
    "    label=\"RMQS\",\n",
    "    alpha=0.5,\n",
    "    color=\"red\",\n",
    ")\n",
    "plt.legend()\n",
    "plt.plot()"
   ]
  },
  {
   "cell_type": "markdown",
   "metadata": {},
   "source": [
    "## Multivariate Analysis"
   ]
  },
  {
   "cell_type": "code",
   "execution_count": null,
   "metadata": {},
   "outputs": [],
   "source": [
    "import gstlearn as gl\n",
    "import gstlearn.plot as gp\n",
    "import gstlearn.document as gdoc\n",
    "import gstools as gs\n",
    "\n",
    "verbose = True\n",
    "graphics = True\n",
    "gl.OptCst.define(gl.ECst.NTCOL, 6)\n",
    "gdoc.setNoScroll()"
   ]
  },
  {
   "cell_type": "code",
   "execution_count": null,
   "metadata": {},
   "outputs": [],
   "source": [
    "columns_matching = {\n",
    "    \"aluminium\": {\"moss\": \"aluminium\", \"rmqs\": \"al_tot_hf\"},\n",
    "    \"calcium\": {\"moss\": \"calcium\", \"rmqs\": \"ca_tot_hf\"},\n",
    "    \"iron\": {\"moss\": \"iron\", \"rmqs\": \"fe_tot_hf\"},\n",
    "    \"sodium\": {\"moss\": \"sodium\", \"rmqs\": \"na_tot_hf\"},\n",
    "    \"cadmium\": {\"moss\": \"cadmium\", \"rmqs\": \"cd_tot_hf\"},\n",
    "    \"cobalt\": {\"moss\": \"cobalt\", \"rmqs\": \"co_tot_hf\"},\n",
    "    \"copper\": {\"moss\": \"copper\", \"rmqs\": \"cu_tot_hf\"},\n",
    "    \"nickel\": {\"moss\": \"nickel\", \"rmqs\": \"ni_tot_hf\"},\n",
    "    \"lead\": {\"moss\": \"lead\", \"rmqs\": \"pb_tot_hf\"},\n",
    "    \"zinc\": {\"moss\": \"zinc\", \"rmqs\": \"zn_tot_hf\"},\n",
    "    # \"arsenic\" : {\"moss\": \"arsenic\", \"rmqs\" : \"as_tot_hf\" },\n",
    "}"
   ]
  },
  {
   "cell_type": "code",
   "execution_count": null,
   "metadata": {},
   "outputs": [],
   "source": [
    "x1 = \"longitude\"\n",
    "x2 = \"latitude\"\n",
    "metal = \"aluminium\"\n",
    "z1 = columns_matching[metal][\"moss\"]\n",
    "z2 = columns_matching[metal][\"rmqs\"]\n",
    "raw_df = matched_df.filter([x1, x2, z1, z2]).astype(\"float\")\n",
    "final_df = raw_df\n",
    "mydb = gl.Db_fromPanda(final_df)\n",
    "mydb.setLocators([x1, x2], gl.ELoc.X)\n",
    "mydb.setLocator(z1, gl.ELoc.Z)\n",
    "ax = gp.correlation(mydb, namex=z1, namey=z2, asPoint=True, regrLine=True)\n",
    "ax.decoration(title=f\"Correlation between {z1} and {z2}\")\n",
    "ax.plot()"
   ]
  },
  {
   "cell_type": "code",
   "execution_count": null,
   "metadata": {},
   "outputs": [],
   "source": [
    "x1 = \"longitude\"\n",
    "x2 = \"latitude\"\n",
    "metal = \"calcium\"\n",
    "z1 = columns_matching[metal][\"moss\"]\n",
    "z2 = columns_matching[metal][\"rmqs\"]\n",
    "raw_df = matched_df.filter([x1, x2, z1, z2]).astype(\"float\")\n",
    "final_df = raw_df\n",
    "mydb = gl.Db_fromPanda(final_df)\n",
    "mydb.setLocators([x1, x2], gl.ELoc.X)\n",
    "mydb.setLocator(z1, gl.ELoc.Z)\n",
    "ax = gp.correlation(mydb, namex=z1, namey=z2, asPoint=True, regrLine=True)\n",
    "ax.decoration(title=f\"Correlation between {z1} and {z2}\")\n",
    "ax.plot()"
   ]
  },
  {
   "cell_type": "code",
   "execution_count": null,
   "metadata": {},
   "outputs": [],
   "source": [
    "x1 = \"longitude\"\n",
    "x2 = \"latitude\"\n",
    "metal = \"iron\"\n",
    "z1 = columns_matching[metal][\"moss\"]\n",
    "z2 = columns_matching[metal][\"rmqs\"]\n",
    "raw_df = matched_df.filter([x1, x2, z1, z2]).astype(\"float\")\n",
    "final_df = raw_df\n",
    "mydb = gl.Db_fromPanda(final_df)\n",
    "mydb.setLocators([x1, x2], gl.ELoc.X)\n",
    "mydb.setLocator(z1, gl.ELoc.Z)\n",
    "ax = gp.correlation(mydb, namex=z1, namey=z2, asPoint=True, regrLine=True)\n",
    "ax.decoration(title=f\"Correlation between {z1} and {z2}\")\n",
    "ax.plot()"
   ]
  },
  {
   "cell_type": "code",
   "execution_count": null,
   "metadata": {},
   "outputs": [],
   "source": [
    "x1 = \"longitude\"\n",
    "x2 = \"latitude\"\n",
    "metal = \"sodium\"\n",
    "z1 = columns_matching[metal][\"moss\"]\n",
    "z2 = columns_matching[metal][\"rmqs\"]\n",
    "raw_df = matched_df.filter([x1, x2, z1, z2]).astype(\"float\")\n",
    "final_df = raw_df\n",
    "mydb = gl.Db_fromPanda(final_df)\n",
    "mydb.setLocators([x1, x2], gl.ELoc.X)\n",
    "mydb.setLocator(z1, gl.ELoc.Z)\n",
    "ax = gp.correlation(mydb, namex=z1, namey=z2, asPoint=True, regrLine=True)\n",
    "ax.decoration(title=f\"Correlation between {z1} and {z2}\")\n",
    "ax.plot()"
   ]
  },
  {
   "cell_type": "code",
   "execution_count": null,
   "metadata": {},
   "outputs": [],
   "source": [
    "x1 = \"longitude\"\n",
    "x2 = \"latitude\"\n",
    "metal = \"cadmium\"\n",
    "z1 = columns_matching[metal][\"moss\"]\n",
    "z2 = columns_matching[metal][\"rmqs\"]\n",
    "raw_df = matched_df.filter([x1, x2, z1, z2]).astype(\"float\")\n",
    "final_df = raw_df\n",
    "mydb = gl.Db_fromPanda(final_df)\n",
    "mydb.setLocators([x1, x2], gl.ELoc.X)\n",
    "mydb.setLocator(z1, gl.ELoc.Z)\n",
    "ax = gp.correlation(mydb, namex=z1, namey=z2, asPoint=True, regrLine=True)\n",
    "ax.decoration(title=f\"Correlation between {z1} and {z2}\")\n",
    "ax.plot()"
   ]
  },
  {
   "cell_type": "code",
   "execution_count": null,
   "metadata": {},
   "outputs": [],
   "source": [
    "x1 = \"longitude\"\n",
    "x2 = \"latitude\"\n",
    "metal = \"cobalt\"\n",
    "z1 = columns_matching[metal][\"moss\"]\n",
    "z2 = columns_matching[metal][\"rmqs\"]\n",
    "raw_df = matched_df.filter([x1, x2, z1, z2]).astype(\"float\")\n",
    "final_df = raw_df\n",
    "mydb = gl.Db_fromPanda(final_df)\n",
    "mydb.setLocators([x1, x2], gl.ELoc.X)\n",
    "mydb.setLocator(z1, gl.ELoc.Z)\n",
    "ax = gp.correlation(mydb, namex=z1, namey=z2, asPoint=True, regrLine=True)\n",
    "ax.decoration(title=f\"Correlation between {z1} and {z2}\")\n",
    "ax.plot()"
   ]
  },
  {
   "cell_type": "code",
   "execution_count": null,
   "metadata": {},
   "outputs": [],
   "source": [
    "x1 = \"longitude\"\n",
    "x2 = \"latitude\"\n",
    "metal = \"copper\"\n",
    "z1 = columns_matching[metal][\"moss\"]\n",
    "z2 = columns_matching[metal][\"rmqs\"]\n",
    "raw_df = matched_df.filter([x1, x2, z1, z2]).astype(\"float\")\n",
    "final_df = raw_df\n",
    "mydb = gl.Db_fromPanda(final_df)\n",
    "mydb.setLocators([x1, x2], gl.ELoc.X)\n",
    "mydb.setLocator(z1, gl.ELoc.Z)\n",
    "ax = gp.correlation(mydb, namex=z1, namey=z2, asPoint=True, regrLine=True)\n",
    "ax.decoration(title=f\"Correlation between {z1} and {z2}\")\n",
    "ax.plot()"
   ]
  },
  {
   "cell_type": "code",
   "execution_count": null,
   "metadata": {},
   "outputs": [],
   "source": [
    "x1 = \"longitude\"\n",
    "x2 = \"latitude\"\n",
    "metal = \"nickel\"\n",
    "z1 = columns_matching[metal][\"moss\"]\n",
    "z2 = columns_matching[metal][\"rmqs\"]\n",
    "raw_df = matched_df.filter([x1, x2, z1, z2]).astype(\"float\")\n",
    "final_df = raw_df\n",
    "mydb = gl.Db_fromPanda(final_df)\n",
    "mydb.setLocators([x1, x2], gl.ELoc.X)\n",
    "mydb.setLocator(z1, gl.ELoc.Z)\n",
    "ax = gp.correlation(mydb, namex=z1, namey=z2, asPoint=True, regrLine=True)\n",
    "ax.decoration(title=f\"Correlation between {z1} and {z2}\")\n",
    "ax.plot()"
   ]
  },
  {
   "cell_type": "code",
   "execution_count": null,
   "metadata": {},
   "outputs": [],
   "source": [
    "x1 = \"longitude\"\n",
    "x2 = \"latitude\"\n",
    "metal = \"lead\"\n",
    "z1 = columns_matching[metal][\"moss\"]\n",
    "z2 = columns_matching[metal][\"rmqs\"]\n",
    "raw_df = matched_df.filter([x1, x2, z1, z2]).astype(\"float\")\n",
    "final_df = raw_df\n",
    "mydb = gl.Db_fromPanda(final_df)\n",
    "mydb.setLocators([x1, x2], gl.ELoc.X)\n",
    "mydb.setLocator(z1, gl.ELoc.Z)\n",
    "ax = gp.correlation(mydb, namex=z1, namey=z2, asPoint=True, regrLine=True)\n",
    "ax.decoration(title=f\"Correlation between {z1} and {z2}\")\n",
    "ax.plot()"
   ]
  },
  {
   "cell_type": "code",
   "execution_count": null,
   "metadata": {},
   "outputs": [],
   "source": [
    "x1 = \"longitude\"\n",
    "x2 = \"latitude\"\n",
    "metal = \"zinc\"\n",
    "z1 = columns_matching[metal][\"moss\"]\n",
    "z2 = columns_matching[metal][\"rmqs\"]\n",
    "raw_df = matched_df.filter([x1, x2, z1, z2]).astype(\"float\")\n",
    "final_df = raw_df\n",
    "mydb = gl.Db_fromPanda(final_df)\n",
    "mydb.setLocators([x1, x2], gl.ELoc.X)\n",
    "mydb.setLocator(z1, gl.ELoc.Z)\n",
    "ax = gp.correlation(mydb, namex=z1, namey=z2, asPoint=True, regrLine=True)\n",
    "ax.decoration(title=f\"Correlation between {z1} and {z2}\")\n",
    "ax.plot()"
   ]
  }
 ],
 "metadata": {
  "kernelspec": {
   "display_name": ".venv",
   "language": "python",
   "name": "python3"
  },
  "language_info": {
   "codemirror_mode": {
    "name": "ipython",
    "version": 3
   },
   "file_extension": ".py",
   "mimetype": "text/x-python",
   "name": "python",
   "nbconvert_exporter": "python",
   "pygments_lexer": "ipython3",
   "version": "3.11.6"
  }
 },
 "nbformat": 4,
 "nbformat_minor": 2
}
