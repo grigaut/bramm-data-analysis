{
 "cells": [
  {
   "cell_type": "code",
   "execution_count": null,
   "metadata": {},
   "outputs": [],
   "source": [
    "%load_ext autoreload\n",
    "%autoreload 2"
   ]
  },
  {
   "cell_type": "code",
   "execution_count": null,
   "metadata": {},
   "outputs": [],
   "source": [
    "import pandas as pd\n",
    "from pathlib import Path\n",
    "from sklearn.neighbors import NearestNeighbors\n",
    "from bramm_data_analysis import preprocessing\n",
    "import matplotlib.pyplot as plt"
   ]
  },
  {
   "cell_type": "markdown",
   "metadata": {},
   "source": [
    "# Load Data"
   ]
  },
  {
   "cell_type": "markdown",
   "metadata": {},
   "source": [
    "### Load Moss Data"
   ]
  },
  {
   "cell_type": "code",
   "execution_count": null,
   "metadata": {},
   "outputs": [],
   "source": [
    "moss_data_path = Path(\"../data/Mines_2024.xlsx\")\n",
    "df_moss = preprocessing.MossPreprocessor(moss_data_path).load_preprocess()"
   ]
  },
  {
   "cell_type": "markdown",
   "metadata": {},
   "source": [
    "### Load RMQS Data"
   ]
  },
  {
   "cell_type": "code",
   "execution_count": null,
   "metadata": {},
   "outputs": [],
   "source": [
    "rmqs_data_path = Path(\"../data/RMQS.csv\")\n",
    "df_rmqs = preprocessing.RMQSPreprocessor(rmqs_data_path).load_preprocess()"
   ]
  },
  {
   "cell_type": "code",
   "execution_count": null,
   "metadata": {},
   "outputs": [],
   "source": [
    "df_rmqs[\"date_complete\"].dt.year.hist()"
   ]
  },
  {
   "cell_type": "code",
   "execution_count": null,
   "metadata": {},
   "outputs": [],
   "source": [
    "year_threshold = 2000\n",
    "df_rmqs = df_rmqs[df_rmqs[\"date_complete\"].dt.year >= year_threshold]"
   ]
  },
  {
   "cell_type": "markdown",
   "metadata": {},
   "source": [
    "## Closest Points Matching"
   ]
  },
  {
   "cell_type": "code",
   "execution_count": null,
   "metadata": {},
   "outputs": [],
   "source": [
    "estimator = NearestNeighbors(n_neighbors=1, metric=\"haversine\")\n",
    "moss_xy = df_moss[[\"longitude\", \"latitude\"]]\n",
    "rmqs_xy = df_rmqs[[\"longitude\", \"latitude\"]]\n",
    "estimator.fit(rmqs_xy)\n",
    "dist, indexes = estimator.kneighbors(moss_xy)\n",
    "\n",
    "nearests = df_rmqs.loc[df_rmqs.index[indexes.flatten()]]\n",
    "nearests.index = df_moss.index\n",
    "\n",
    "raw_match = pd.merge(\n",
    "    left=df_moss,\n",
    "    right=nearests,\n",
    "    left_index=True,\n",
    "    right_index=True,\n",
    "    suffixes=(\"_moss\", \"_rmqs\"),\n",
    ").merge(\n",
    "    right=pd.DataFrame({\"distance\": dist.flatten()}, index=nearests.index),\n",
    "    left_index=True,\n",
    "    right_index=True,\n",
    ")\n",
    "\n",
    "\n",
    "threshold = 0.01\n",
    "final_match = raw_match[raw_match[\"distance\"] <= threshold].reset_index()\n",
    "print(\n",
    "    f\"Threshold : {threshold * 6371} km \\nConserved : {final_match.shape[0]} / {raw_match.shape[0]}\"\n",
    ")"
   ]
  },
  {
   "cell_type": "code",
   "execution_count": null,
   "metadata": {},
   "outputs": [],
   "source": [
    "# gdf_moss = gpd.GeoDataFrame(\n",
    "#     data=df_moss,\n",
    "#     geometry=gpd.points_from_xy(\n",
    "#         x=df_moss[\"longitude\"], y=df_moss[\"latitude\"], crs=\"epsg:4326\"\n",
    "#     ),\n",
    "# )\n",
    "# gdf_moss_match = gpd.GeoDataFrame(\n",
    "#     data=df_moss_match,\n",
    "#     geometry=gpd.points_from_xy(\n",
    "#         x=df_moss_match[\"longitude\"], y=df_moss_match[\"latitude\"], crs=\"epsg:4326\"\n",
    "#     ),\n",
    "# )\n",
    "# gdf_rmqs_match = gpd.GeoDataFrame(\n",
    "#     data=rmqs_match,\n",
    "#     geometry=gpd.points_from_xy(\n",
    "#         x=rmqs_match[\"longitude\"], y=rmqs_match[\"latitude\"], crs=\"epsg:4326\"\n",
    "#     ),\n",
    "# )\n",
    "# gdf_rmqs_not_match = gpd.GeoDataFrame(\n",
    "#     data=rmqs_not_match,\n",
    "#     geometry=gpd.points_from_xy(\n",
    "#         x=rmqs_not_match[\"longitude\"], y=rmqs_not_match[\"latitude\"], crs=\"epsg:4326\"\n",
    "#     ),\n",
    "# )\n",
    "# gdf_rmqs = gpd.GeoDataFrame(\n",
    "#     data=df_rmqs,\n",
    "#     geometry=gpd.points_from_xy(\n",
    "#         x=df_rmqs[\"longitude\"], y=df_rmqs[\"latitude\"], crs=\"epsg:4326\"\n",
    "#     ),\n",
    "# )"
   ]
  },
  {
   "cell_type": "code",
   "execution_count": null,
   "metadata": {},
   "outputs": [],
   "source": [
    "plt.scatter(\n",
    "    df_moss[\"longitude\"], df_moss[\"latitude\"], label=\"all moss\", alpha=0.4\n",
    ")\n",
    "plt.scatter(\n",
    "    final_match[\"longitude_moss\"],\n",
    "    final_match[\"latitude_moss\"],\n",
    "    label=\"Moss match\",\n",
    "    alpha=0.5,\n",
    "    color=\"green\",\n",
    ")\n",
    "plt.scatter(\n",
    "    final_match[\"longitude_rmqs\"],\n",
    "    final_match[\"latitude_rmqs\"],\n",
    "    label=\"RMQS match\",\n",
    "    alpha=0.5,\n",
    "    color=\"red\",\n",
    ")\n",
    "plt.legend()\n",
    "plt.plot()"
   ]
  },
  {
   "cell_type": "markdown",
   "metadata": {},
   "source": [
    "## Multivariate Analysis"
   ]
  },
  {
   "cell_type": "code",
   "execution_count": null,
   "metadata": {},
   "outputs": [],
   "source": [
    "import gstlearn as gl\n",
    "import gstlearn.plot as gp\n",
    "import gstlearn.document as gdoc\n",
    "import gstools as gs\n",
    "\n",
    "verbose = True\n",
    "graphics = True\n",
    "gl.OptCst.define(gl.ECst.NTCOL, 6)\n",
    "gdoc.setNoScroll()"
   ]
  },
  {
   "cell_type": "code",
   "execution_count": null,
   "metadata": {},
   "outputs": [],
   "source": [
    "print(df_moss.columns)"
   ]
  },
  {
   "cell_type": "code",
   "execution_count": null,
   "metadata": {},
   "outputs": [],
   "source": [
    "print(df_rmqs.filter(like=\"_tot_hf\").columns)"
   ]
  },
  {
   "cell_type": "code",
   "execution_count": null,
   "metadata": {},
   "outputs": [],
   "source": [
    "print(df_moss.columns)"
   ]
  },
  {
   "cell_type": "code",
   "execution_count": null,
   "metadata": {},
   "outputs": [],
   "source": [
    "x1 = \"longitude\"\n",
    "x2 = \"latitude\"\n",
    "z1 = \"aluminium\"\n",
    "z2 = \"al_tot_hf\"\n",
    "raw_df = final_match.filter([x1, x2, z1, z2]).astype(\"float\")\n",
    "final_df = raw_df  # [\n",
    "# (raw_df[z1] <= 15000)\n",
    "# &\n",
    "# (raw_df[z2] <= 1)\n",
    "# ]"
   ]
  },
  {
   "cell_type": "code",
   "execution_count": null,
   "metadata": {},
   "outputs": [],
   "source": [
    "mydb = gl.Db_fromPanda(final_df)\n",
    "mydb.setLocators([x1, x2], gl.ELoc.X)\n",
    "mydb.setLocator(z1, gl.ELoc.Z)"
   ]
  },
  {
   "cell_type": "code",
   "execution_count": null,
   "metadata": {},
   "outputs": [],
   "source": [
    "mydb"
   ]
  },
  {
   "cell_type": "code",
   "execution_count": null,
   "metadata": {},
   "outputs": [],
   "source": [
    "gl.dbStatisticsPrint(\n",
    "    db=mydb,\n",
    "    names=[z1, z2],\n",
    "    opers=gl.EStatOption.fromKeys([\"MEAN\", \"MINI\", \"MAXI\"]),\n",
    "    flagIso=False,\n",
    "    title=\"Number of observations\",\n",
    ")"
   ]
  },
  {
   "cell_type": "code",
   "execution_count": null,
   "metadata": {},
   "outputs": [],
   "source": [
    "ax = gp.correlation(mydb, namex=z1, namey=z2, asPoint=True, regrLine=True)\n",
    "ax.decoration(title=f\"Correlation between {z1} and {z2}\")"
   ]
  },
  {
   "cell_type": "code",
   "execution_count": null,
   "metadata": {},
   "outputs": [],
   "source": []
  },
  {
   "cell_type": "code",
   "execution_count": null,
   "metadata": {},
   "outputs": [],
   "source": []
  }
 ],
 "metadata": {
  "kernelspec": {
   "display_name": ".venv",
   "language": "python",
   "name": "python3"
  },
  "language_info": {
   "codemirror_mode": {
    "name": "ipython",
    "version": 3
   },
   "file_extension": ".py",
   "mimetype": "text/x-python",
   "name": "python",
   "nbconvert_exporter": "python",
   "pygments_lexer": "ipython3",
   "version": "3.11.6"
  }
 },
 "nbformat": 4,
 "nbformat_minor": 2
}
