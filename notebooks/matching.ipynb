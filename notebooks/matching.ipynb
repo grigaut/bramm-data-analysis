{
 "cells": [
  {
   "cell_type": "code",
   "execution_count": null,
   "metadata": {},
   "outputs": [],
   "source": [
    "%load_ext autoreload\n",
    "%autoreload 2"
   ]
  },
  {
   "cell_type": "code",
   "execution_count": null,
   "metadata": {},
   "outputs": [],
   "source": [
    "import pandas as pd\n",
    "from pathlib import Path\n",
    "from sklearn.neighbors import NearestNeighbors\n",
    "from bramm_data_analysis import loading\n",
    "import geopandas as gpd\n",
    "import numpy as np"
   ]
  },
  {
   "cell_type": "markdown",
   "metadata": {},
   "source": [
    "### Load Moss Data"
   ]
  },
  {
   "cell_type": "code",
   "execution_count": null,
   "metadata": {},
   "outputs": [],
   "source": [
    "columns = {}\n",
    "\n",
    "columns[\"metadata\"] = [\n",
    "    \"site_code\",\n",
    "    \"site_insee_code\",\n",
    "    \"department_code\",\n",
    "    \"latitude\",\n",
    "    \"longitude\",\n",
    "    \"x_lambert\",\n",
    "    \"y_lambert\",\n",
    "    \"altitude\",\n",
    "    \"date\",\n",
    "    \"sample_code\",\n",
    "    \"sample_send_europe\",\n",
    "]\n",
    "columns[\"sample\"] = [\n",
    "    \"strand_size\",\n",
    "    \"visible_dust_particles\",\n",
    "    \"visible_pollen_particles\",\n",
    "    \"mineral_type\",\n",
    "]\n",
    "columns[\"site\"] = [\n",
    "    \"samples_nb\",\n",
    "    \"fern_samples_nb\",\n",
    "    \"tree_samples_nb\",\n",
    "    \"herb_samples_nb\",\n",
    "    \"litter_samples_nb\",\n",
    "    \"humus_samples_nb\",\n",
    "    \"soi_samples_nb\",\n",
    "    \"sand_samples_nb\",\n",
    "    \"hard_strain_coniferous_samples_nb\",\n",
    "    \"hard_strain_hardwood_samples_nb\",\n",
    "    \"hard_strain_unknown_samples_nb\",\n",
    "    \"decomposed_strain_coniferous_samples_nb\",\n",
    "    \"decomposed_strain_hardwood_samples_nb\",\n",
    "    \"decomposed_strain_unknown_samples_nb\",\n",
    "    \"bark_coniferous_nb\",\n",
    "    \"bark_hardwood_samples_nb\",\n",
    "    \"bark_unknown_samples_nb\",\n",
    "    \"hard_coniferous_samples_nb\",\n",
    "    \"hard_hardwood_samples_nb\",\n",
    "    \"hard_unknown_samples_nb\",\n",
    "    \"decomposed_coniferous_samples_nb\",\n",
    "    \"decomposed_hardwood_samples_nb\",\n",
    "    \"decomposed_unknown_samples_nb\",\n",
    "]\n",
    "columns[\"studies\"] = [\n",
    "    \"sample_outside_complementary_study\",\n",
    "    \"cs_3_species_comparison\",\n",
    "    \"cs_2_species_comparison\",\n",
    "    \"cs_repeated_sampling\",\n",
    "    \"cs_repeated_analysis\",\n",
    "]\n",
    "columns[\"incertitudes\"] = [\n",
    "    \"aluminium_incertitude\",\n",
    "    \"arsenic_incertitude\",\n",
    "    \"calcium_incertitude\",\n",
    "    \"cadmium_incertitude\",\n",
    "    \"cobalt_incertitude\",\n",
    "    \"chromium_incertitude\",\n",
    "    \"copper_incertitude\",\n",
    "    \"iron_incertitude\",\n",
    "    \"mercury_incertitude\",\n",
    "    \"nitrogen_incertitude\",\n",
    "    \"sodium_incertitude\",\n",
    "    \"nickel_incertitude\",\n",
    "    \"lead_incertitude\",\n",
    "    \"sulfur_incertitude\",\n",
    "    \"zinc_incertitude\",\n",
    "]\n",
    "columns[\"categorical\"] = [\n",
    "    \"weather\",\n",
    "    \"tree_layer\",\n",
    "    \"tree_layer_complement\",\n",
    "    \"tree_cover\",\n",
    "    \"species\",\n",
    "]\n",
    "df_sites = loading.load_sites(Path(\"../data/Mines_2024.xlsx\"))\n",
    "df_samples = loading.load_samples(Path(\"../data/Mines_2024.xlsx\"))\n",
    "df_values = loading.load_values(Path(\"../data/Mines_2024.xlsx\"))\n",
    "df_moss = pd.merge(\n",
    "    pd.merge(\n",
    "        df_sites,\n",
    "        df_samples,\n",
    "        on=\"site_code\",\n",
    "    ),\n",
    "    df_values,\n",
    "    on=\"sample_code\",\n",
    ")\n",
    "\n",
    "\n",
    "# Correct data\n",
    "for col in [\n",
    "    \"sodium\",\n",
    "    \"platinium\",\n",
    "    \"rhodium\",\n",
    "    \"antimony\",\n",
    "    \"strontium\",\n",
    "    \"vanadium\",\n",
    "    \"zinc\",\n",
    "]:\n",
    "    df_moss[col] = df_moss[col].astype(str)\n",
    "    df_moss[col] = df_moss[col].apply(lambda x: x.replace(\",\", \".\"))\n",
    "    df_moss[col] = df_moss[col].apply(lambda x: x.replace(\"< \", \"\"))\n",
    "    df_moss[col].astype(\"float64\")"
   ]
  },
  {
   "cell_type": "code",
   "execution_count": null,
   "metadata": {},
   "outputs": [],
   "source": [
    "df_rmqs = pd.read_csv(\"../data/RMQS.csv\")"
   ]
  },
  {
   "cell_type": "code",
   "execution_count": null,
   "metadata": {},
   "outputs": [],
   "source": [
    "estimator = NearestNeighbors(n_neighbors=1, metric=\"haversine\")\n",
    "moss_xy = df_moss[[\"longitude\", \"latitude\"]]\n",
    "rmqs_xy = df_rmqs[[\"longitude\", \"latitude\"]]\n",
    "estimator.fit(rmqs_xy)\n",
    "dist, indexes = estimator.kneighbors(moss_xy)"
   ]
  },
  {
   "cell_type": "code",
   "execution_count": null,
   "metadata": {},
   "outputs": [],
   "source": [
    "rmqs_match = df_rmqs.loc[indexes.flatten(), :]\n",
    "rmqs_match.index = moss_xy.index\n",
    "df = pd.concat([df_moss, rmqs_match], axis=1)"
   ]
  },
  {
   "cell_type": "code",
   "execution_count": null,
   "metadata": {},
   "outputs": [],
   "source": [
    "gdf_moss = gpd.GeoDataFrame(\n",
    "    data=df_moss,\n",
    "    geometry=gpd.points_from_xy(\n",
    "        x=df_moss[\"longitude\"], y=df_moss[\"latitude\"], crs=\"epsg:4326\"\n",
    "    ),\n",
    ")\n",
    "gdf_rmqs_match = gpd.GeoDataFrame(\n",
    "    data=rmqs_match,\n",
    "    geometry=gpd.points_from_xy(\n",
    "        x=rmqs_match[\"longitude\"], y=rmqs_match[\"latitude\"], crs=\"epsg:4326\"\n",
    "    ),\n",
    ")\n",
    "gdf_rmqs = gpd.GeoDataFrame(\n",
    "    data=df_rmqs,\n",
    "    geometry=gpd.points_from_xy(\n",
    "        x=df_rmqs[\"longitude\"], y=df_rmqs[\"latitude\"], crs=\"epsg:4326\"\n",
    "    ),\n",
    ")"
   ]
  },
  {
   "cell_type": "code",
   "execution_count": null,
   "metadata": {},
   "outputs": [],
   "source": [
    "gdf_moss.plot()"
   ]
  },
  {
   "cell_type": "code",
   "execution_count": null,
   "metadata": {},
   "outputs": [],
   "source": [
    "gdf_rmqs_match.plot()"
   ]
  },
  {
   "cell_type": "code",
   "execution_count": null,
   "metadata": {},
   "outputs": [],
   "source": [
    "gdf_rmqs.plot()"
   ]
  },
  {
   "cell_type": "code",
   "execution_count": null,
   "metadata": {},
   "outputs": [],
   "source": []
  }
 ],
 "metadata": {
  "kernelspec": {
   "display_name": ".venv",
   "language": "python",
   "name": "python3"
  },
  "language_info": {
   "codemirror_mode": {
    "name": "ipython",
    "version": 3
   },
   "file_extension": ".py",
   "mimetype": "text/x-python",
   "name": "python",
   "nbconvert_exporter": "python",
   "pygments_lexer": "ipython3",
   "version": "3.11.6"
  }
 },
 "nbformat": 4,
 "nbformat_minor": 2
}
