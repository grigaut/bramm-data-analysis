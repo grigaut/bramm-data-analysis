{
 "cells": [
  {
   "cell_type": "code",
   "execution_count": null,
   "metadata": {},
   "outputs": [],
   "source": [
    "%load_ext autoreload\n",
    "%autoreload 2"
   ]
  },
  {
   "cell_type": "code",
   "execution_count": null,
   "metadata": {},
   "outputs": [],
   "source": [
    "from pathlib import Path\n",
    "import gstlearn as gl\n",
    "import gstlearn.plot as gp\n",
    "from bramm_data_analysis import loaders\n",
    "import matplotlib.pyplot as plt\n",
    "from bramm_data_analysis.spatial import RegularGrid"
   ]
  },
  {
   "cell_type": "markdown",
   "metadata": {},
   "source": [
    "# Données"
   ]
  },
  {
   "cell_type": "markdown",
   "metadata": {},
   "source": [
    "### Chargement"
   ]
  },
  {
   "cell_type": "markdown",
   "metadata": {},
   "source": [
    "On charge les données pour une variable, ici le cuivre. Les données de mousse correspondent aux données des 3 feuilles de données, fusionnées sur le code de site et sur le code d'échantillon pour former un grand jeu de données. Les données sont ensuite filtrées pour ne conserver que la variable interessante (ici le cuivre).\n",
    "\n",
    "La gestion des valeurs dupliquées se fait en deux étapes. Dans un premier temps, on aggrège les données correspondants à un même échantillon (les données ayant même date, même longitude et même latitude), en faisant leur moyenne. Ensuite, si il reste des données ayant la même position spatial (il n'est plus question de date ici), on conserve les données les plus récentes.\n",
    "\n",
    "On s'assure ensuite de l'absence de `NaN` dans les données et on convertit le jeu de données (on conservant seulement la longitude, la latitute et les valeurs de cuivre) au format `Db` de `gstlearn` pour effectuer un premier krigeage.\n",
    "\n",
    "Pour plus d'informations sur le chargement des données, se référer [aux fonctions de chargement de données](../src/bramm_data_analysis/loaders/core.py)."
   ]
  },
  {
   "cell_type": "code",
   "execution_count": null,
   "metadata": {},
   "outputs": [],
   "source": [
    "x1 = \"longitude\"\n",
    "x2 = \"latitude\"\n",
    "z = \"copper\"\n",
    "\n",
    "# Moss\n",
    "moss_data_path = Path(\"../data/Mines_2024.xlsx\")\n",
    "observations = loaders.from_moss_csv(moss_data_path).retrieve_db(\n",
    "    xs=[\"longitude\", \"latitude\"],\n",
    "    zs=z,\n",
    "    duplicates_handling_strategy=\"mean\",\n",
    ")\n",
    "observations.plot(z)"
   ]
  },
  {
   "cell_type": "markdown",
   "metadata": {},
   "source": [
    "### Définition d'une grille pour le krigeage"
   ]
  },
  {
   "cell_type": "markdown",
   "metadata": {},
   "source": [
    "On définit une grille régulière, de maille `step` à l'aide de `gstlearn.Dbgrid.create`. Ensuite, à l'aide de la library `geopandas` et du tracé de la [france métropolitaine](../data/metropole.json), on créé un selecteur dans la grid régulière pour indiquer les points à l'intérieur de la france métropolitaine et de la corse. Pour plus de détailler, se référer au module [`spatial`](../src/bramm_data_analysis/spatial/__init__.py)."
   ]
  },
  {
   "cell_type": "code",
   "execution_count": null,
   "metadata": {},
   "outputs": [],
   "source": [
    "step = 0.1\n",
    "grid = RegularGrid.from_boundary_path(Path(\"../data/metropole.json\"))\n",
    "db_grid = grid.retrieve_grid(step)\n",
    "db_grid.display()"
   ]
  },
  {
   "cell_type": "markdown",
   "metadata": {},
   "source": [
    "# Variogramme"
   ]
  },
  {
   "cell_type": "code",
   "execution_count": null,
   "metadata": {},
   "outputs": [],
   "source": [
    "varioParamMulti = gl.VarioParam.createMultiple(\n",
    "    ndir=2, npas=10, dpas=0.5, toldis=0.2\n",
    ")\n",
    "vario2dir = gl.Vario(varioParamMulti)\n",
    "err = vario2dir.compute(observations)\n",
    "ax = gp.varmod(vario2dir)"
   ]
  },
  {
   "cell_type": "code",
   "execution_count": null,
   "metadata": {},
   "outputs": [],
   "source": [
    "fitmod = gl.Model()\n",
    "types = [gl.ECov.NUGGET, gl.ECov.EXPONENTIAL, gl.ECov.GAUSSIAN]\n",
    "err = fitmod.fit(vario2dir, types=types)\n",
    "ax = gp.varmod(vario2dir, fitmod)"
   ]
  },
  {
   "cell_type": "code",
   "execution_count": null,
   "metadata": {},
   "outputs": [],
   "source": [
    "err = gl.kriging(\n",
    "    dbin=observations,\n",
    "    dbout=db_grid,\n",
    "    model=fitmod,\n",
    "    neigh=gl.NeighUnique.create(),\n",
    "    flag_est=True,\n",
    "    flag_std=True,\n",
    "    flag_varz=False,\n",
    "    namconv=gl.NamingConvention(\"SK\"),\n",
    ")\n",
    "# visualization\n",
    "fig, ax = gp.initGeographic()\n",
    "ax.raster(db_grid, name=f\"SK.{z}.estim\", flagLegend=True)\n",
    "ax.symbol(observations, c=\"black\")\n",
    "ax.decoration(\n",
    "    title=f\"Simple Kriging over whole Grid: Mean={round(observations[z].mean(),1)}\"\n",
    ")\n",
    "plt.show()\n",
    "fig, ax = gp.initGeographic()\n",
    "ax.raster(db_grid, name=f\"SK.{z}.stdev\", flagLegend=True)\n",
    "ax.symbol(observations, c=\"black\")\n",
    "ax.decoration(title=\"Simple Kriging std-dev over whole Grid\")\n",
    "plt.show()"
   ]
  },
  {
   "cell_type": "code",
   "execution_count": null,
   "metadata": {},
   "outputs": [],
   "source": [
    "fitmodSK = fitmod.clone()\n",
    "err = fitmodSK.setMean(mean=observations[z].mean())"
   ]
  },
  {
   "cell_type": "code",
   "execution_count": null,
   "metadata": {},
   "outputs": [],
   "source": [
    "err = gl.kriging(\n",
    "    dbin=observations,\n",
    "    dbout=db_grid,\n",
    "    model=fitmodSK,\n",
    "    neigh=gl.NeighUnique.create(),\n",
    "    flag_est=True,\n",
    "    flag_std=True,\n",
    "    flag_varz=False,\n",
    "    namconv=gl.NamingConvention(\"Mean_SK\"),\n",
    ")"
   ]
  },
  {
   "cell_type": "code",
   "execution_count": null,
   "metadata": {},
   "outputs": [],
   "source": [
    "fig, ax = gp.initGeographic()\n",
    "ax.raster(db_grid, name=f\"Mean_SK.{z}.estim\", flagLegend=True)\n",
    "ax.symbol(observations, c=\"black\")\n",
    "ax.decoration(\n",
    "    title=f\"Simple Kriging over whole Grid: Mean={round(observations[z].mean(),1)}\"\n",
    ")\n",
    "plt.show()"
   ]
  },
  {
   "cell_type": "code",
   "execution_count": null,
   "metadata": {},
   "outputs": [],
   "source": [
    "fitmodOK = fitmod.clone()\n",
    "err = fitmodOK.addDrift(gl.DriftM())"
   ]
  },
  {
   "cell_type": "code",
   "execution_count": null,
   "metadata": {},
   "outputs": [],
   "source": [
    "err = gl.kriging(\n",
    "    dbin=observations,\n",
    "    dbout=db_grid,\n",
    "    model=fitmodOK,\n",
    "    neigh=gl.NeighUnique.create(),\n",
    "    flag_est=True,\n",
    "    flag_std=True,\n",
    "    flag_varz=False,\n",
    "    namconv=gl.NamingConvention(\"OK\"),\n",
    ")"
   ]
  },
  {
   "cell_type": "code",
   "execution_count": null,
   "metadata": {},
   "outputs": [],
   "source": [
    "fig, ax = gp.initGeographic()\n",
    "ax.raster(db_grid, name=f\"OK.{z}.estim\", flagLegend=True)\n",
    "ax.symbol(observations, c=\"black\")\n",
    "ax.decoration(title=f\"Ordinary Kriging over whole Grid\")\n",
    "plt.show()\n",
    "fig, ax = gp.initGeographic()\n",
    "ax.raster(db_grid, name=f\"OK.{z}.stdev\", flagLegend=True)\n",
    "ax.symbol(observations, c=\"black\")\n",
    "ax.decoration(title=\"Ordinary Kriging std-dev over whole Grid\")\n",
    "plt.show()"
   ]
  },
  {
   "cell_type": "code",
   "execution_count": null,
   "metadata": {},
   "outputs": [],
   "source": [
    "ax = gp.correlation(\n",
    "    db_grid,\n",
    "    namex=f\"OK.{z}.estim\",\n",
    "    namey=f\"SK.{z}.estim\",\n",
    "    bissLine=True,\n",
    "    bins=100,\n",
    "    flagSameAxes=True,\n",
    "    cmin=1,\n",
    ")\n",
    "ax.decoration(\n",
    "    title=\"Estimation Simple vs. Ordinary\",\n",
    "    xlabel=\"Ordinary Kriging\",\n",
    "    ylabel=\"Simple Kriging\",\n",
    ")"
   ]
  },
  {
   "cell_type": "code",
   "execution_count": null,
   "metadata": {},
   "outputs": [],
   "source": [
    "ax = gp.correlation(\n",
    "    db_grid,\n",
    "    namex=f\"OK.{z}.stdev\",\n",
    "    namey=f\"SK.{z}.stdev\",\n",
    "    bissLine=True,\n",
    "    bins=100,\n",
    "    flagSameAxes=True,\n",
    "    cmin=1,\n",
    ")\n",
    "ax.decoration(\n",
    "    title=\"Estimation Simple vs. Ordinary\",\n",
    "    xlabel=\"Ordinary Kriging\",\n",
    "    ylabel=\"Simple Kriging\",\n",
    ")"
   ]
  }
 ],
 "metadata": {
  "kernelspec": {
   "display_name": ".venv",
   "language": "python",
   "name": "python3"
  },
  "language_info": {
   "codemirror_mode": {
    "name": "ipython",
    "version": 3
   },
   "file_extension": ".py",
   "mimetype": "text/x-python",
   "name": "python",
   "nbconvert_exporter": "python",
   "pygments_lexer": "ipython3",
   "version": "3.11.6"
  }
 },
 "nbformat": 4,
 "nbformat_minor": 2
}
