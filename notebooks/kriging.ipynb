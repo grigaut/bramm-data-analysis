{
 "cells": [
  {
   "cell_type": "code",
   "execution_count": null,
   "metadata": {},
   "outputs": [],
   "source": [
    "%load_ext autoreload\n",
    "%autoreload 2"
   ]
  },
  {
   "cell_type": "markdown",
   "metadata": {},
   "source": [
    "# ENLEVER LES POI?TS GEOGRAPHIQUES DUPLIQUES"
   ]
  },
  {
   "cell_type": "code",
   "execution_count": null,
   "metadata": {},
   "outputs": [],
   "source": [
    "from pathlib import Path\n",
    "import gstlearn as gl\n",
    "import gstlearn.plot as gp\n",
    "from bramm_data_analysis import loaders"
   ]
  },
  {
   "cell_type": "markdown",
   "metadata": {},
   "source": [
    "# Data"
   ]
  },
  {
   "cell_type": "markdown",
   "metadata": {},
   "source": [
    "### Loading"
   ]
  },
  {
   "cell_type": "code",
   "execution_count": null,
   "metadata": {},
   "outputs": [],
   "source": [
    "x1 = \"longitude\"\n",
    "x2 = \"latitude\"\n",
    "z1 = \"copper\"\n",
    "z2 = \"aluminium\"\n",
    "\n",
    "# Moss\n",
    "moss_data_path = Path(\"../data/Mines_2024.xlsx\")\n",
    "observations = loaders.from_moss_csv(moss_data_path).retrieve_db(\n",
    "    xs=[\"longitude\", \"latitude\"], zs=z1, duplicates_handling_strategy=\"mean\"\n",
    ")"
   ]
  },
  {
   "cell_type": "code",
   "execution_count": null,
   "metadata": {},
   "outputs": [],
   "source": [
    "extrems = observations.getExtremas()"
   ]
  },
  {
   "cell_type": "code",
   "execution_count": null,
   "metadata": {},
   "outputs": [],
   "source": [
    "extrems"
   ]
  },
  {
   "cell_type": "code",
   "execution_count": null,
   "metadata": {},
   "outputs": [],
   "source": [
    "step = 0.1\n",
    "db_grid = gl.DbGrid.create(\n",
    "    x0=[extrems[0, 0], extrems[1, 0]],\n",
    "    dx=[step, step],\n",
    "    nx=[\n",
    "        int((extrems[0, 1] - extrems[0, 0]) / step),\n",
    "        int((extrems[1, 1] - extrems[1, 0]) / step),\n",
    "    ],\n",
    ")"
   ]
  },
  {
   "cell_type": "code",
   "execution_count": null,
   "metadata": {},
   "outputs": [],
   "source": [
    "varioParamMulti = gl.VarioParam.createMultiple(\n",
    "    ndir=2, npas=10, dpas=0.5, toldis=0.2\n",
    ")\n",
    "vario2dir = gl.Vario(varioParamMulti)\n",
    "err = vario2dir.compute(observations)\n",
    "ax = gp.varmod(vario2dir)"
   ]
  },
  {
   "cell_type": "code",
   "execution_count": null,
   "metadata": {},
   "outputs": [],
   "source": [
    "fitmod = gl.Model()\n",
    "types = [gl.ECov.NUGGET, gl.ECov.EXPONENTIAL, gl.ECov.GAUSSIAN]\n",
    "err = fitmod.fit(vario2dir, types=types)\n",
    "ax = gp.varmod(vario2dir, fitmod)"
   ]
  },
  {
   "cell_type": "code",
   "execution_count": null,
   "metadata": {},
   "outputs": [],
   "source": [
    "observations.setLocator(z1, gl.ELoc.Z)\n",
    "observations"
   ]
  },
  {
   "cell_type": "code",
   "execution_count": null,
   "metadata": {},
   "outputs": [],
   "source": [
    "uniqueNeigh = gl.NeighUnique.create()"
   ]
  },
  {
   "cell_type": "code",
   "execution_count": null,
   "metadata": {},
   "outputs": [],
   "source": [
    "err = gl.kriging(\n",
    "    dbin=observations,\n",
    "    dbout=db_grid,\n",
    "    model=fitmod,\n",
    "    neigh=uniqueNeigh,\n",
    "    flag_est=True,\n",
    "    flag_std=True,\n",
    "    flag_varz=False,\n",
    "    namconv=gl.NamingConvention(\"SK\"),\n",
    ")"
   ]
  },
  {
   "cell_type": "code",
   "execution_count": null,
   "metadata": {},
   "outputs": [],
   "source": [
    "db_grid[\"SK.copper.estim\"]"
   ]
  },
  {
   "cell_type": "code",
   "execution_count": null,
   "metadata": {},
   "outputs": [],
   "source": [
    "db_grid.plot(\"SK.copper.estim\")"
   ]
  },
  {
   "cell_type": "code",
   "execution_count": null,
   "metadata": {},
   "outputs": [],
   "source": []
  },
  {
   "cell_type": "code",
   "execution_count": null,
   "metadata": {},
   "outputs": [],
   "source": []
  }
 ],
 "metadata": {
  "kernelspec": {
   "display_name": ".venv",
   "language": "python",
   "name": "python3"
  },
  "language_info": {
   "codemirror_mode": {
    "name": "ipython",
    "version": 3
   },
   "file_extension": ".py",
   "mimetype": "text/x-python",
   "name": "python",
   "nbconvert_exporter": "python",
   "pygments_lexer": "ipython3",
   "version": "3.11.6"
  }
 },
 "nbformat": 4,
 "nbformat_minor": 2
}
