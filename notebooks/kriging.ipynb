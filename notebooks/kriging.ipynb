{
 "cells": [
  {
   "cell_type": "markdown",
   "metadata": {},
   "source": [
    "# Krigeage sur une Variable des échantillons de mousse\n",
    "\n",
    "Dans ce notebok, on se concentre uniquement sur le krigeage à une variable et uniquement sur les variables correspondant aux concentrations en métaux dans les mousses."
   ]
  },
  {
   "cell_type": "code",
   "execution_count": null,
   "metadata": {},
   "outputs": [],
   "source": [
    "%load_ext autoreload\n",
    "%autoreload 2"
   ]
  },
  {
   "cell_type": "code",
   "execution_count": null,
   "metadata": {},
   "outputs": [],
   "source": [
    "from pathlib import Path\n",
    "import gstlearn as gl\n",
    "import gstlearn.plot as gp\n",
    "from bramm_data_analysis import loaders\n",
    "import matplotlib.pyplot as plt\n",
    "from bramm_data_analysis.spatial import RegularGrid\n",
    "from bramm_data_analysis.loaders.preprocessing import QuantileThreshold"
   ]
  },
  {
   "cell_type": "markdown",
   "metadata": {},
   "source": [
    "## Données"
   ]
  },
  {
   "cell_type": "markdown",
   "metadata": {},
   "source": [
    "### Chargement"
   ]
  },
  {
   "cell_type": "markdown",
   "metadata": {},
   "source": [
    "On charge les données pour une variable, ici le cuivre. Les données de mousse correspondent aux données des 3 feuilles de données, fusionnées sur le code de site et sur le code d'échantillon pour former un grand jeu de données. Les données sont ensuite filtrées pour ne conserver que la variable interessante (ici le cuivre).\n",
    "\n",
    "La gestion des valeurs dupliquées se fait en deux étapes. Dans un premier temps, on aggrège les données correspondants à un même échantillon (les données ayant même date, même longitude et même latitude), en faisant leur moyenne. Ensuite, si il reste des données ayant la même position spatial (il n'est plus question de date ici), on conserve les données les plus récentes.\n",
    "\n",
    "On s'assure ensuite de l'absence de `NaN` dans les données et on convertit le jeu de données (on conservant seulement la longitude, la latitute et les valeurs de cuivre) au format `Db` de `gstlearn` pour effectuer un premier krigeage.\n",
    "\n",
    "Pour plus d'informations sur le chargement des données, se référer [aux fonctions de chargement de données](../src/bramm_data_analysis/loaders/core.py).\n",
    "\n",
    "On retire également les 5% des valeurs les plus élevées, pour se débarrasser d'éventuelles erreurs de mesure causant des valeurs trop élevées. De même on retire les 5% des valeurs les plus basses."
   ]
  },
  {
   "cell_type": "code",
   "execution_count": null,
   "metadata": {},
   "outputs": [],
   "source": [
    "x1 = \"longitude\"\n",
    "x2 = \"latitude\"\n",
    "z = \"copper\"\n",
    "\n",
    "# Moss\n",
    "moss_data_path = Path(\"../data/Mines_2024.xlsx\")\n",
    "observations = loaders.from_moss_csv(moss_data_path).retrieve_db(\n",
    "    xs=[\"longitude\", \"latitude\"],\n",
    "    zs=z,\n",
    "    duplicates_handling_strategy=\"mean\",\n",
    "    thresholds=[QuantileThreshold(field=z, lower=0.05, upper=0.95)],\n",
    ")\n",
    "observations.plot(z, flagLegendColor=True)"
   ]
  },
  {
   "cell_type": "markdown",
   "metadata": {},
   "source": [
    "### Définition d'une grille pour le krigeage"
   ]
  },
  {
   "cell_type": "markdown",
   "metadata": {},
   "source": [
    "On définit une grille régulière, de maille `step` à l'aide de `gstlearn.Dbgrid.create`. Ensuite, à l'aide de la library `geopandas` et du tracé de la [france métropolitaine](../data/metropole.json) (obtenu sur Github [ici](https://github.com/gregoiredavid/france-geojson/blob/master/metropole.geojson)), on créé un selecteur dans la grid régulière pour indiquer les points à l'intérieur de la france métropolitaine et de la corse. Pour plus de détailler, se référer au module [`spatial`](../src/bramm_data_analysis/spatial/__init__.py) ou au notebook [`spatial_division`](../notebooks/spatial_division.ipynb)."
   ]
  },
  {
   "cell_type": "code",
   "execution_count": null,
   "metadata": {},
   "outputs": [],
   "source": [
    "step = 0.1\n",
    "grid = RegularGrid.from_boundary_path(Path(\"../data/metropole.json\"))\n",
    "db_grid = grid.retrieve_grid(step)\n",
    "db_grid.display()"
   ]
  },
  {
   "cell_type": "markdown",
   "metadata": {},
   "source": [
    "## Etude Statistique"
   ]
  },
  {
   "cell_type": "markdown",
   "metadata": {},
   "source": [
    "### Variogramme"
   ]
  },
  {
   "cell_type": "code",
   "execution_count": null,
   "metadata": {},
   "outputs": [],
   "source": [
    "varioParamMulti = gl.VarioParam.createMultiple(\n",
    "    ndir=2, npas=10, dpas=0.5, toldis=0.2\n",
    ")\n",
    "vario2dir = gl.Vario(varioParamMulti)\n",
    "err = vario2dir.compute(observations)\n",
    "ax = gp.varmod(vario2dir)"
   ]
  },
  {
   "cell_type": "code",
   "execution_count": null,
   "metadata": {},
   "outputs": [],
   "source": [
    "fitmod = gl.Model()\n",
    "types = [gl.ECov.NUGGET, gl.ECov.EXPONENTIAL, gl.ECov.GAUSSIAN]\n",
    "err = fitmod.fit(vario2dir, types=types)\n",
    "ax = gp.varmod(vario2dir, fitmod)"
   ]
  },
  {
   "cell_type": "markdown",
   "metadata": {},
   "source": [
    "### Krigeage avec un unique voisinage"
   ]
  },
  {
   "cell_type": "code",
   "execution_count": null,
   "metadata": {},
   "outputs": [],
   "source": [
    "neigh = gl.NeighUnique.create()"
   ]
  },
  {
   "cell_type": "code",
   "execution_count": null,
   "metadata": {},
   "outputs": [],
   "source": [
    "err = gl.kriging(\n",
    "    dbin=observations,\n",
    "    dbout=db_grid,\n",
    "    model=fitmod,\n",
    "    neigh=neigh,\n",
    "    flag_est=True,\n",
    "    flag_std=True,\n",
    "    flag_varz=False,\n",
    "    namconv=gl.NamingConvention(\"SK\"),\n",
    ")\n",
    "# visualization\n",
    "fig, ax = gp.initGeographic()\n",
    "ax.raster(db_grid, name=f\"SK.{z}.estim\", flagLegend=True)\n",
    "ax.symbol(observations, c=\"black\")\n",
    "ax.decoration(title=\"Unique Neigh Kriging over whole Grid\")\n",
    "plt.show()\n",
    "fig, ax = gp.initGeographic()\n",
    "ax.raster(db_grid, name=f\"SK.{z}.stdev\", flagLegend=True)\n",
    "ax.symbol(observations, c=\"black\")\n",
    "ax.decoration(title=\"Unique Neigh Kriging std-dev over whole Grid\")\n",
    "plt.show()"
   ]
  },
  {
   "cell_type": "code",
   "execution_count": null,
   "metadata": {},
   "outputs": [],
   "source": [
    "# Cross-Validation\n",
    "\n",
    "err = gl.xvalid(\n",
    "    db=observations,\n",
    "    model=fitmod,\n",
    "    neigh=neigh,\n",
    "    flag_xvalid_est=1,\n",
    "    flag_xvalid_std=1,\n",
    "    namconv=gl.NamingConvention.create(\"CV_unique\", flag_locator=False),\n",
    ")\n",
    "fig, ax = gp.initGeographic()\n",
    "ax.raster(db_grid, name=\"inland\")\n",
    "ax.symbol(\n",
    "    observations,\n",
    "    nameSize=f\"CV_unique.{z}.esterr\",\n",
    "    flagAbsSize=True,\n",
    "    flagLegendSize=True,\n",
    ")\n",
    "ax.decoration(title=\"Unique Neigh Cross-Validation scores (abs. value)\")\n",
    "plt.show()"
   ]
  },
  {
   "cell_type": "markdown",
   "metadata": {},
   "source": [
    "### Krigeage avec un voisinage mobile "
   ]
  },
  {
   "cell_type": "code",
   "execution_count": null,
   "metadata": {},
   "outputs": [],
   "source": [
    "neigh = gl.NeighMoving.create(nmini=1, nmaxi=1)"
   ]
  },
  {
   "cell_type": "code",
   "execution_count": null,
   "metadata": {},
   "outputs": [],
   "source": [
    "err = gl.kriging(\n",
    "    dbin=observations,\n",
    "    dbout=db_grid,\n",
    "    model=fitmod,\n",
    "    neigh=neigh,\n",
    "    flag_est=True,\n",
    "    flag_std=True,\n",
    "    flag_varz=False,\n",
    "    namconv=gl.NamingConvention(\"Move_SK\"),\n",
    ")"
   ]
  },
  {
   "cell_type": "code",
   "execution_count": null,
   "metadata": {},
   "outputs": [],
   "source": [
    "fig, ax = gp.initGeographic()\n",
    "ax.raster(db_grid, name=f\"Move_SK.{z}.estim\", flagLegend=True)\n",
    "ax.symbol(observations, c=\"black\")\n",
    "ax.decoration(\n",
    "    title=\"Unique Neigh Kriging over whole Grid\",\n",
    ")\n",
    "plt.show()\n",
    "fig, ax = gp.initGeographic()\n",
    "ax.raster(db_grid, name=f\"Move_SK.{z}.stdev\", flagLegend=True)\n",
    "ax.symbol(observations, c=\"black\")\n",
    "ax.decoration(title=\"Moving Neigh Kriging std-dev over whole Grid\")\n",
    "plt.show()"
   ]
  },
  {
   "cell_type": "code",
   "execution_count": null,
   "metadata": {},
   "outputs": [],
   "source": [
    "# Cross-Validation\n",
    "\n",
    "err = gl.xvalid(\n",
    "    db=observations,\n",
    "    model=fitmod,\n",
    "    neigh=neigh,\n",
    "    flag_xvalid_est=1,\n",
    "    flag_xvalid_std=1,\n",
    "    namconv=gl.NamingConvention.create(\"CV_moving\", flag_locator=False),\n",
    ")\n",
    "fig, ax = gp.initGeographic()\n",
    "ax.raster(db_grid, name=\"inland\")\n",
    "ax.symbol(\n",
    "    observations,\n",
    "    nameSize=f\"CV_moving.{z}.esterr\",\n",
    "    flagAbsSize=True,\n",
    "    flagLegendSize=True,\n",
    ")\n",
    "ax.decoration(title=\"Moving Neigh Cross-Validation scores (abs. value)\")\n",
    "plt.show()"
   ]
  },
  {
   "cell_type": "markdown",
   "metadata": {},
   "source": [
    "La validation croisée donne finalement de meilleurs scores pour le krigeage effectué avec un unique voisinage plutôt qu'avec un voisinage mobile. "
   ]
  },
  {
   "cell_type": "markdown",
   "metadata": {},
   "source": [
    "Pour explorer plus en détail le jeu de données, n'héstez pas à rejouer ce notebook avec différentes variables, par exemple :\n",
    "\n",
    "```python\n",
    "z = \"iron\"\n",
    "```\n",
    "\n",
    "```python\n",
    "z = \"aluminium\"\n",
    "```\n",
    "\n",
    "``` python\n",
    "z = \"calcium\"\n",
    "```"
   ]
  },
  {
   "cell_type": "markdown",
   "metadata": {},
   "source": []
  }
 ],
 "metadata": {
  "kernelspec": {
   "display_name": ".venv",
   "language": "python",
   "name": "python3"
  },
  "language_info": {
   "codemirror_mode": {
    "name": "ipython",
    "version": 3
   },
   "file_extension": ".py",
   "mimetype": "text/x-python",
   "name": "python",
   "nbconvert_exporter": "python",
   "pygments_lexer": "ipython3",
   "version": "3.11.6"
  }
 },
 "nbformat": 4,
 "nbformat_minor": 2
}
