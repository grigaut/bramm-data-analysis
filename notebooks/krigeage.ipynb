{
 "cells": [
  {
   "cell_type": "code",
   "execution_count": null,
   "metadata": {},
   "outputs": [],
   "source": [
    "%load_ext autoreload\n",
    "%autoreload 2"
   ]
  },
  {
   "cell_type": "code",
   "execution_count": null,
   "metadata": {},
   "outputs": [],
   "source": [
    "from pathlib import Path\n",
    "import pandas as pd\n",
    "from bramm_data_analysis import loading\n",
    "import matplotlib.pyplot as plt\n",
    "import gstlearn as gl\n",
    "import gstlearn.plot as gp\n",
    "import gstlearn.document as gdoc\n",
    "import gstools as gs\n",
    "\n",
    "verbose = True\n",
    "graphics = True\n",
    "gl.OptCst.define(gl.ECst.NTCOL, 6)\n",
    "gdoc.setNoScroll()"
   ]
  },
  {
   "cell_type": "code",
   "execution_count": null,
   "metadata": {},
   "outputs": [],
   "source": [
    "columns = {}\n",
    "\n",
    "columns[\"metadata\"] = [\n",
    "    \"site_code\",\n",
    "    \"site_insee_code\",\n",
    "    \"department_code\",\n",
    "    \"latitude\",\n",
    "    \"longitude\",\n",
    "    \"x_lambert\",\n",
    "    \"y_lambert\",\n",
    "    \"altitude\",\n",
    "    \"date\",\n",
    "    \"sample_code\",\n",
    "    \"sample_send_europe\",\n",
    "]\n",
    "columns[\"sample\"] = [\n",
    "    \"strand_size\",\n",
    "    \"visible_dust_particles\",\n",
    "    \"visible_pollen_particles\",\n",
    "    \"mineral_type\",\n",
    "]\n",
    "columns[\"site\"] = [\n",
    "    \"samples_nb\",\n",
    "    \"fern_samples_nb\",\n",
    "    \"tree_samples_nb\",\n",
    "    \"herb_samples_nb\",\n",
    "    \"litter_samples_nb\",\n",
    "    \"humus_samples_nb\",\n",
    "    \"soi_samples_nb\",\n",
    "    \"sand_samples_nb\",\n",
    "    \"hard_strain_coniferous_samples_nb\",\n",
    "    \"hard_strain_hardwood_samples_nb\",\n",
    "    \"hard_strain_unknown_samples_nb\",\n",
    "    \"decomposed_strain_coniferous_samples_nb\",\n",
    "    \"decomposed_strain_hardwood_samples_nb\",\n",
    "    \"decomposed_strain_unknown_samples_nb\",\n",
    "    \"bark_coniferous_nb\",\n",
    "    \"bark_hardwood_samples_nb\",\n",
    "    \"bark_unknown_samples_nb\",\n",
    "    \"hard_coniferous_samples_nb\",\n",
    "    \"hard_hardwood_samples_nb\",\n",
    "    \"hard_unknown_samples_nb\",\n",
    "    \"decomposed_coniferous_samples_nb\",\n",
    "    \"decomposed_hardwood_samples_nb\",\n",
    "    \"decomposed_unknown_samples_nb\",\n",
    "]\n",
    "columns[\"studies\"] = [\n",
    "    \"sample_outside_complementary_study\",\n",
    "    \"cs_3_species_comparison\",\n",
    "    \"cs_2_species_comparison\",\n",
    "    \"cs_repeated_sampling\",\n",
    "    \"cs_repeated_analysis\",\n",
    "]\n",
    "columns[\"incertitudes\"] = [\n",
    "    \"aluminium_incertitude\",\n",
    "    \"arsenic_incertitude\",\n",
    "    \"calcium_incertitude\",\n",
    "    \"cadmium_incertitude\",\n",
    "    \"cobalt_incertitude\",\n",
    "    \"chromium_incertitude\",\n",
    "    \"copper_incertitude\",\n",
    "    \"iron_incertitude\",\n",
    "    \"mercury_incertitude\",\n",
    "    \"nitrogen_incertitude\",\n",
    "    \"sodium_incertitude\",\n",
    "    \"nickel_incertitude\",\n",
    "    \"lead_incertitude\",\n",
    "    \"sulfur_incertitude\",\n",
    "    \"zinc_incertitude\",\n",
    "]\n",
    "columns[\"categorical\"] = [\n",
    "    \"weather\",\n",
    "    \"tree_layer\",\n",
    "    \"tree_layer_complement\",\n",
    "    \"tree_cover\",\n",
    "    \"species\",\n",
    "]"
   ]
  },
  {
   "cell_type": "code",
   "execution_count": null,
   "metadata": {},
   "outputs": [],
   "source": [
    "df_sites = loading.load_sites(Path(\"../data/Mines_2024.xlsx\"))\n",
    "df_samples = loading.load_samples(Path(\"../data/Mines_2024.xlsx\"))\n",
    "df_values = loading.load_values(Path(\"../data/Mines_2024.xlsx\"))"
   ]
  },
  {
   "cell_type": "code",
   "execution_count": null,
   "metadata": {},
   "outputs": [],
   "source": [
    "df = pd.merge(\n",
    "    pd.merge(\n",
    "        df_sites,\n",
    "        df_samples,\n",
    "        on=\"site_code\",\n",
    "    ),\n",
    "    df_values,\n",
    "    on=\"sample_code\",\n",
    ")\n",
    "# Correct Data\n",
    "df.loc[\n",
    "    df[\"tree_layer_complement\"].isna(), \"tree_layer_complement\"\n",
    "] = \"unspecified\"\n",
    "\n",
    "df = df.drop(columns=columns[\"incertitudes\"])\n",
    "\n",
    "# Correct data\n",
    "for col in [\n",
    "    \"sodium\",\n",
    "    \"platinium\",\n",
    "    \"rhodium\",\n",
    "    \"antimony\",\n",
    "    \"strontium\",\n",
    "    \"vanadium\",\n",
    "    \"zinc\",\n",
    "]:\n",
    "    df[col] = df[col].astype(str)\n",
    "    df[col] = df[col].apply(lambda x: x.replace(\",\", \".\"))\n",
    "    df[col] = df[col].apply(lambda x: x.replace(\"< \", \"\"))\n",
    "    df[col].astype(\"float64\")\n",
    "\n",
    "# Remove Columns with nans\n",
    "print(\"The following columns contains NaN and will be removed :\")\n",
    "print(df.columns[df.isna().any(axis=0)])\n",
    "df = df.drop(columns=df.columns[df.isna().any(axis=0)])"
   ]
  },
  {
   "cell_type": "code",
   "execution_count": null,
   "metadata": {},
   "outputs": [],
   "source": [
    "x1 = \"longitude\"\n",
    "x2 = \"latitude\"\n",
    "z1 = \"copper\"\n",
    "\n",
    "final_df = df.filter([x1, x2, z1])"
   ]
  },
  {
   "cell_type": "markdown",
   "metadata": {},
   "source": [
    "https://soft.mines-paristech.fr/gstlearn/demos-latest/python/Tuto_2D.html"
   ]
  },
  {
   "cell_type": "code",
   "execution_count": null,
   "metadata": {},
   "outputs": [],
   "source": [
    "mydb = gl.Db_fromPanda(final_df)\n",
    "mydb.setLocators([x1, x2], gl.ELoc.X)\n",
    "mydb.setLocator(z1, gl.ELoc.Z)"
   ]
  },
  {
   "cell_type": "code",
   "execution_count": null,
   "metadata": {},
   "outputs": [],
   "source": [
    "dbfmt = gl.DbStringFormat.createFromFlags(flag_stats=True)\n",
    "mydb.display(dbfmt)"
   ]
  },
  {
   "cell_type": "code",
   "execution_count": null,
   "metadata": {},
   "outputs": [],
   "source": [
    "ax = mydb.plot(nameColor=z1)\n",
    "ax.decoration(title=\"Data Set\")"
   ]
  },
  {
   "cell_type": "code",
   "execution_count": null,
   "metadata": {},
   "outputs": [],
   "source": [
    "varioParamOmni = gl.VarioParam.createOmniDirection(100)\n",
    "grid_cloud = gl.db_variogram_cloud(mydb, varioParamOmni)\n",
    "grid_cloud.display()"
   ]
  },
  {
   "cell_type": "code",
   "execution_count": null,
   "metadata": {},
   "outputs": [],
   "source": [
    "myVarioParamOmni = gl.VarioParam()\n",
    "mydir = gl.DirParam.create(npas=50, dpas=1)\n",
    "myVarioParamOmni.addDir(mydir)"
   ]
  },
  {
   "cell_type": "code",
   "execution_count": null,
   "metadata": {},
   "outputs": [],
   "source": [
    "ax = grid_cloud.plot()\n",
    "plt.gca().set_aspect(\"0.1\")\n",
    "ax.decoration(title=\"Variogram Cloud\")"
   ]
  },
  {
   "cell_type": "code",
   "execution_count": null,
   "metadata": {},
   "outputs": [],
   "source": [
    "varioParamOmni = gl.VarioParam.createOmniDirection(\n",
    "    npas=15, dpas=0.5, toldis=0.2\n",
    ")\n",
    "varioexp = gl.Vario(varioParamOmni)\n",
    "err = varioexp.compute(mydb)"
   ]
  },
  {
   "cell_type": "code",
   "execution_count": null,
   "metadata": {},
   "outputs": [],
   "source": [
    "varioexp"
   ]
  },
  {
   "cell_type": "code",
   "execution_count": null,
   "metadata": {},
   "outputs": [],
   "source": [
    "gp.setDefault(dims=[6, 6])\n",
    "gp.varmod(varioexp)\n",
    "plt.show()"
   ]
  },
  {
   "cell_type": "code",
   "execution_count": null,
   "metadata": {},
   "outputs": [],
   "source": [
    "fitmod = gl.Model()\n",
    "err = fitmod.fit(varioexp)"
   ]
  },
  {
   "cell_type": "code",
   "execution_count": null,
   "metadata": {},
   "outputs": [],
   "source": [
    "gp.varmod(varioexp, fitmod)\n",
    "plt.show()"
   ]
  },
  {
   "cell_type": "code",
   "execution_count": null,
   "metadata": {},
   "outputs": [],
   "source": [
    "fitmod"
   ]
  },
  {
   "cell_type": "code",
   "execution_count": null,
   "metadata": {},
   "outputs": [],
   "source": [
    "types = [gl.ECov.NUGGET, gl.ECov.CUBIC, gl.ECov.SPHERICAL]\n",
    "err = fitmod.fit(varioexp, types=types)"
   ]
  },
  {
   "cell_type": "code",
   "execution_count": null,
   "metadata": {},
   "outputs": [],
   "source": [
    "ax = gp.varmod(varioexp, fitmod)"
   ]
  },
  {
   "cell_type": "code",
   "execution_count": null,
   "metadata": {},
   "outputs": [],
   "source": []
  }
 ],
 "metadata": {
  "kernelspec": {
   "display_name": ".venv",
   "language": "python",
   "name": "python3"
  },
  "language_info": {
   "codemirror_mode": {
    "name": "ipython",
    "version": 3
   },
   "file_extension": ".py",
   "mimetype": "text/x-python",
   "name": "python",
   "nbconvert_exporter": "python",
   "pygments_lexer": "ipython3",
   "version": "3.11.6"
  }
 },
 "nbformat": 4,
 "nbformat_minor": 2
}
