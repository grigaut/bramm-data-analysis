{
 "cells": [
  {
   "cell_type": "code",
   "execution_count": null,
   "metadata": {},
   "outputs": [],
   "source": [
    "%load_ext autoreload\n",
    "%autoreload 2"
   ]
  },
  {
   "cell_type": "code",
   "execution_count": null,
   "metadata": {},
   "outputs": [],
   "source": [
    "from pathlib import Path\n",
    "import pandas as pd\n",
    "import numpy as np\n",
    "import matplotlib.pyplot as plt\n",
    "from bramm_data_analysis import preprocessing\n",
    "import gstools as gs"
   ]
  },
  {
   "cell_type": "code",
   "execution_count": null,
   "metadata": {},
   "outputs": [],
   "source": [
    "columns = {}\n",
    "\n",
    "columns[\"metadata\"] = [\n",
    "    \"site_code\",\n",
    "    \"site_insee_code\",\n",
    "    \"department_code\",\n",
    "    \"latitude\",\n",
    "    \"longitude\",\n",
    "    \"x_lambert\",\n",
    "    \"y_lambert\",\n",
    "    \"altitude\",\n",
    "    \"date\",\n",
    "    \"sample_code\",\n",
    "    \"sample_send_europe\",\n",
    "]\n",
    "columns[\"sample\"] = [\n",
    "    \"strand_size\",\n",
    "    \"visible_dust_particles\",\n",
    "    \"visible_pollen_particles\",\n",
    "    \"mineral_type\",\n",
    "]\n",
    "columns[\"site\"] = [\n",
    "    \"samples_nb\",\n",
    "    \"fern_samples_nb\",\n",
    "    \"tree_samples_nb\",\n",
    "    \"herb_samples_nb\",\n",
    "    \"litter_samples_nb\",\n",
    "    \"humus_samples_nb\",\n",
    "    \"soi_samples_nb\",\n",
    "    \"sand_samples_nb\",\n",
    "    \"hard_strain_coniferous_samples_nb\",\n",
    "    \"hard_strain_hardwood_samples_nb\",\n",
    "    \"hard_strain_unknown_samples_nb\",\n",
    "    \"decomposed_strain_coniferous_samples_nb\",\n",
    "    \"decomposed_strain_hardwood_samples_nb\",\n",
    "    \"decomposed_strain_unknown_samples_nb\",\n",
    "    \"bark_coniferous_nb\",\n",
    "    \"bark_hardwood_samples_nb\",\n",
    "    \"bark_unknown_samples_nb\",\n",
    "    \"hard_coniferous_samples_nb\",\n",
    "    \"hard_hardwood_samples_nb\",\n",
    "    \"hard_unknown_samples_nb\",\n",
    "    \"decomposed_coniferous_samples_nb\",\n",
    "    \"decomposed_hardwood_samples_nb\",\n",
    "    \"decomposed_unknown_samples_nb\",\n",
    "]\n",
    "columns[\"studies\"] = [\n",
    "    \"sample_outside_complementary_study\",\n",
    "    \"cs_3_species_comparison\",\n",
    "    \"cs_2_species_comparison\",\n",
    "    \"cs_repeated_sampling\",\n",
    "    \"cs_repeated_analysis\",\n",
    "]\n",
    "columns[\"incertitudes\"] = [\n",
    "    \"aluminium_incertitude\",\n",
    "    \"arsenic_incertitude\",\n",
    "    \"calcium_incertitude\",\n",
    "    \"cadmium_incertitude\",\n",
    "    \"cobalt_incertitude\",\n",
    "    \"chromium_incertitude\",\n",
    "    \"copper_incertitude\",\n",
    "    \"iron_incertitude\",\n",
    "    \"mercury_incertitude\",\n",
    "    \"nitrogen_incertitude\",\n",
    "    \"sodium_incertitude\",\n",
    "    \"nickel_incertitude\",\n",
    "    \"lead_incertitude\",\n",
    "    \"sulfur_incertitude\",\n",
    "    \"zinc_incertitude\",\n",
    "]\n",
    "columns[\"categorical\"] = [\n",
    "    \"weather\",\n",
    "    \"tree_layer\",\n",
    "    \"tree_layer_complement\",\n",
    "    \"tree_cover\",\n",
    "    \"species\",\n",
    "]"
   ]
  },
  {
   "cell_type": "code",
   "execution_count": null,
   "metadata": {},
   "outputs": [],
   "source": [
    "moss_data_path = Path(\"../data/Mines_2024.xlsx\")\n",
    "df = preprocessing.MossPreprocessor(moss_data_path).load_preprocess()"
   ]
  },
  {
   "cell_type": "code",
   "execution_count": null,
   "metadata": {},
   "outputs": [],
   "source": [
    "# Remove Columns with nans\n",
    "df.loc[\n",
    "    df[\"tree_layer_complement\"].isna(), \"tree_layer_complement\"\n",
    "] = \"unspecified\"\n",
    "\n",
    "df = df.drop(columns=columns[\"incertitudes\"])\n",
    "\n",
    "print(\"The following columns contains NaN and will be removed :\")\n",
    "print(df.columns[df.isna().any(axis=0)])\n",
    "df = df.drop(columns=df.columns[df.isna().any(axis=0)])"
   ]
  },
  {
   "cell_type": "code",
   "execution_count": null,
   "metadata": {},
   "outputs": [],
   "source": [
    "df.columns"
   ]
  },
  {
   "cell_type": "code",
   "execution_count": null,
   "metadata": {},
   "outputs": [],
   "source": [
    "x1 = \"longitude\"\n",
    "x2 = \"latitude\"\n",
    "z1 = \"lead\"\n",
    "\n",
    "final_df = df.filter([x1, x2, z1])"
   ]
  },
  {
   "cell_type": "code",
   "execution_count": null,
   "metadata": {},
   "outputs": [],
   "source": [
    "slice_df = final_df[final_df[z1] <= 2000]\n",
    "x = slice_df[x1]\n",
    "y = slice_df[x2]\n",
    "field = slice_df[z1]"
   ]
  },
  {
   "cell_type": "code",
   "execution_count": null,
   "metadata": {},
   "outputs": [],
   "source": [
    "bins = np.arange(10)\n",
    "bin_center, gamma = gs.vario_estimate((x, y), field, bins)"
   ]
  },
  {
   "cell_type": "code",
   "execution_count": null,
   "metadata": {},
   "outputs": [],
   "source": [
    "models = {\n",
    "    \"Gaussian\": gs.Gaussian,\n",
    "    \"Exponential\": gs.Exponential,\n",
    "    \"Matern\": gs.Matern,\n",
    "    \"Stable\": gs.Stable,\n",
    "    \"Rational\": gs.Rational,\n",
    "    \"Circular\": gs.Circular,\n",
    "    \"Spherical\": gs.Spherical,\n",
    "    \"SuperSpherical\": gs.SuperSpherical,\n",
    "    \"JBessel\": gs.JBessel,\n",
    "}\n",
    "scores = {}"
   ]
  },
  {
   "cell_type": "code",
   "execution_count": null,
   "metadata": {},
   "outputs": [],
   "source": [
    "# plot the estimated variogram\n",
    "plt.scatter(bin_center, gamma, color=\"k\", label=\"data\")\n",
    "ax = plt.gca()\n",
    "\n",
    "# fit all models to the estimated variogram\n",
    "for model in models:\n",
    "    fit_model = models[model](dim=2)\n",
    "    para, pcov, r2 = fit_model.fit_variogram(bin_center, gamma, return_r2=True)\n",
    "    fit_model.plot(x_max=40, ax=ax)\n",
    "    scores[model] = r2"
   ]
  },
  {
   "cell_type": "code",
   "execution_count": null,
   "metadata": {},
   "outputs": [],
   "source": [
    "field.describe()"
   ]
  },
  {
   "cell_type": "code",
   "execution_count": null,
   "metadata": {},
   "outputs": [],
   "source": []
  },
  {
   "cell_type": "code",
   "execution_count": null,
   "metadata": {},
   "outputs": [],
   "source": []
  }
 ],
 "metadata": {
  "kernelspec": {
   "display_name": ".venv",
   "language": "python",
   "name": "python3"
  },
  "language_info": {
   "codemirror_mode": {
    "name": "ipython",
    "version": 3
   },
   "file_extension": ".py",
   "mimetype": "text/x-python",
   "name": "python",
   "nbconvert_exporter": "python",
   "pygments_lexer": "ipython3",
   "version": "3.11.6"
  }
 },
 "nbformat": 4,
 "nbformat_minor": 2
}
