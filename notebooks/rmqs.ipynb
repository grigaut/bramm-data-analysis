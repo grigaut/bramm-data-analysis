{
 "cells": [
  {
   "cell_type": "code",
   "execution_count": null,
   "metadata": {},
   "outputs": [],
   "source": [
    "%load_ext autoreload\n",
    "%autoreload 2"
   ]
  },
  {
   "cell_type": "code",
   "execution_count": null,
   "metadata": {},
   "outputs": [],
   "source": [
    "import pandas as pd\n",
    "import geopandas as gpd"
   ]
  },
  {
   "cell_type": "code",
   "execution_count": null,
   "metadata": {},
   "outputs": [],
   "source": [
    "df = pd.read_csv(\n",
    "    \"../data/RMQS/RMQS1_analyses_composites_18_11_2021_virgule.csv\"\n",
    ")\n",
    "gdf = gpd.GeoDataFrame(\n",
    "    data=df, geometry=gpd.points_from_xy(df.x_theo, df.y_theo, crs=\"epsg:2154\")\n",
    ")\n",
    "gdf.to_crs(epsg=\"4326\", inplace=True)\n",
    "gdf[\"date_complete\"] = gdf[\"date_complete\"].astype(\"datetime64[ns]\")\n",
    "gdf[\"latitude\"] = gdf.geometry.y\n",
    "gdf[\"longitude\"] = gdf.geometry.x\n",
    "gdf.pop(\"geometry\")\n",
    "gdf.to_csv(\"../data/RMQS.csv\")"
   ]
  },
  {
   "cell_type": "code",
   "execution_count": null,
   "metadata": {},
   "outputs": [],
   "source": []
  }
 ],
 "metadata": {
  "kernelspec": {
   "display_name": ".venv",
   "language": "python",
   "name": "python3"
  },
  "language_info": {
   "codemirror_mode": {
    "name": "ipython",
    "version": 3
   },
   "file_extension": ".py",
   "mimetype": "text/x-python",
   "name": "python",
   "nbconvert_exporter": "python",
   "pygments_lexer": "ipython3",
   "version": "3.11.6"
  }
 },
 "nbformat": 4,
 "nbformat_minor": 2
}
