{
 "cells": [
  {
   "cell_type": "code",
   "execution_count": null,
   "metadata": {},
   "outputs": [],
   "source": [
    "%load_ext autoreload\n",
    "%autoreload 2"
   ]
  },
  {
   "cell_type": "code",
   "execution_count": null,
   "metadata": {},
   "outputs": [],
   "source": [
    "from pathlib import Path\n",
    "import pandas as pd\n",
    "from bramm_data_analysis import preprocessing\n",
    "import matplotlib.pyplot as plt\n",
    "import gstlearn as gl\n",
    "import gstlearn.plot as gp\n",
    "import gstlearn.document as gdoc\n",
    "import gstools as gs\n",
    "\n",
    "verbose = True\n",
    "graphics = True\n",
    "gl.OptCst.define(gl.ECst.NTCOL, 6)\n",
    "gdoc.setNoScroll()"
   ]
  },
  {
   "cell_type": "code",
   "execution_count": null,
   "metadata": {},
   "outputs": [],
   "source": [
    "moss_data_path = Path(\"../data/Mines_2024.xlsx\")\n",
    "df = preprocessing.MossPreprocessor(moss_data_path).load_preprocess()"
   ]
  },
  {
   "cell_type": "code",
   "execution_count": null,
   "metadata": {},
   "outputs": [],
   "source": [
    "# Remove Columns with nans\n",
    "df.loc[\n",
    "    df[\"tree_layer_complement\"].isna(), \"tree_layer_complement\"\n",
    "] = \"unspecified\"\n",
    "print(\"The following columns contains NaN and will be removed :\")\n",
    "print(df.columns[df.isna().any(axis=0)])\n",
    "df = df.drop(columns=df.columns[df.isna().any(axis=0)])"
   ]
  },
  {
   "cell_type": "code",
   "execution_count": null,
   "metadata": {},
   "outputs": [],
   "source": [
    "df.columns"
   ]
  },
  {
   "cell_type": "code",
   "execution_count": null,
   "metadata": {},
   "outputs": [],
   "source": [
    "x1 = \"longitude\"\n",
    "x2 = \"latitude\"\n",
    "z1 = \"iron\"\n",
    "z2 = \"aluminium\"\n",
    "raw_df = df.filter([x1, x2, z1, z2]).astype(\"float\")\n",
    "final_df = raw_df[(raw_df[z2] <= 8000) & (raw_df[z1] <= 4000)]"
   ]
  },
  {
   "cell_type": "code",
   "execution_count": null,
   "metadata": {},
   "outputs": [],
   "source": [
    "mydb = gl.Db_fromPanda(final_df)\n",
    "mydb.setLocators([x1, x2], gl.ELoc.X)\n",
    "mydb.setLocator(z1, gl.ELoc.Z)"
   ]
  },
  {
   "cell_type": "code",
   "execution_count": null,
   "metadata": {},
   "outputs": [],
   "source": [
    "mydb"
   ]
  },
  {
   "cell_type": "code",
   "execution_count": null,
   "metadata": {},
   "outputs": [],
   "source": [
    "gl.dbStatisticsPrint(\n",
    "    db=mydb,\n",
    "    names=[z1, z2],\n",
    "    opers=gl.EStatOption.fromKeys([\"MEAN\", \"MINI\", \"MAXI\"]),\n",
    "    flagIso=False,\n",
    "    title=\"Number of observations\",\n",
    ")"
   ]
  },
  {
   "cell_type": "code",
   "execution_count": null,
   "metadata": {},
   "outputs": [],
   "source": [
    "ax = gp.correlation(mydb, namex=z1, namey=z2, asPoint=True, regrLine=True)\n",
    "ax.decoration(title=f\"Correlation between {z1} and {z2}\")"
   ]
  },
  {
   "cell_type": "code",
   "execution_count": null,
   "metadata": {},
   "outputs": [],
   "source": [
    "varioparam = gl.VarioParam.createMultiple(\n",
    "    ndir=2, npas=30, dpas=0.2, toldis=0.6\n",
    ")\n",
    "vario_raw2dir = gl.Vario(varioparam)\n",
    "err = vario_raw2dir.compute(mydb)"
   ]
  },
  {
   "cell_type": "code",
   "execution_count": null,
   "metadata": {},
   "outputs": [],
   "source": [
    "gp.setDefault(dims=[6, 6])\n",
    "gp.varmod(vario_raw2dir)\n",
    "plt.show()"
   ]
  },
  {
   "cell_type": "code",
   "execution_count": null,
   "metadata": {},
   "outputs": [],
   "source": [
    "fitmod_raw = gl.Model()\n",
    "err = fitmod_raw.fit(\n",
    "    vario_raw2dir,\n",
    "    types=[gl.ECov.NUGGET, gl.ECov.EXPONENTIAL, gl.ECov.CUBIC, gl.ECov.LINEAR],\n",
    ")\n",
    "fitmod_raw.setDriftIRF(0, 0)"
   ]
  },
  {
   "cell_type": "code",
   "execution_count": null,
   "metadata": {},
   "outputs": [],
   "source": [
    "ax = gp.varmod(vario_raw2dir, fitmod_raw)\n",
    "ax.decoration(\n",
    "    title=f\"Experimental and fitted variogram models - Raw {z2} observations\",\n",
    "    xlabel=\"Distance (km)\",\n",
    "    ylabel=\"Variogram\",\n",
    ")"
   ]
  },
  {
   "cell_type": "code",
   "execution_count": null,
   "metadata": {},
   "outputs": [],
   "source": []
  },
  {
   "cell_type": "code",
   "execution_count": null,
   "metadata": {},
   "outputs": [],
   "source": []
  }
 ],
 "metadata": {
  "kernelspec": {
   "display_name": ".venv",
   "language": "python",
   "name": "python3"
  },
  "language_info": {
   "codemirror_mode": {
    "name": "ipython",
    "version": 3
   },
   "file_extension": ".py",
   "mimetype": "text/x-python",
   "name": "python",
   "nbconvert_exporter": "python",
   "pygments_lexer": "ipython3",
   "version": "3.11.6"
  }
 },
 "nbformat": 4,
 "nbformat_minor": 2
}
