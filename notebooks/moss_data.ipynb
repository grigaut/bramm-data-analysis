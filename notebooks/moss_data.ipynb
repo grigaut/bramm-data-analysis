{
 "cells": [
  {
   "cell_type": "code",
   "execution_count": null,
   "metadata": {},
   "outputs": [],
   "source": [
    "%load_ext autoreload\n",
    "%autoreload 2"
   ]
  },
  {
   "cell_type": "code",
   "execution_count": null,
   "metadata": {},
   "outputs": [],
   "source": [
    "from pathlib import Path\n",
    "import pandas as pd\n",
    "from bramm_data_analysis import loaders\n",
    "from sklearn import decomposition, preprocessing\n",
    "import numpy as np\n",
    "import matplotlib.pyplot as plt"
   ]
  },
  {
   "cell_type": "code",
   "execution_count": null,
   "metadata": {},
   "outputs": [],
   "source": [
    "columns = {}\n",
    "\n",
    "columns[\"metadata\"] = [\n",
    "    \"site_code\",\n",
    "    \"site_insee_code\",\n",
    "    \"department_code\",\n",
    "    \"latitude\",\n",
    "    \"longitude\",\n",
    "    \"x_lambert\",\n",
    "    \"y_lambert\",\n",
    "    \"altitude\",\n",
    "    \"date\",\n",
    "    \"sample_code\",\n",
    "    \"sample_send_europe\",\n",
    "]\n",
    "columns[\"sample\"] = [\n",
    "    \"strand_size\",\n",
    "    \"visible_dust_particles\",\n",
    "    \"visible_pollen_particles\",\n",
    "    \"mineral_type\",\n",
    "]\n",
    "columns[\"site\"] = [\n",
    "    \"samples_nb\",\n",
    "    \"fern_samples_nb\",\n",
    "    \"tree_samples_nb\",\n",
    "    \"herb_samples_nb\",\n",
    "    \"litter_samples_nb\",\n",
    "    \"humus_samples_nb\",\n",
    "    \"soi_samples_nb\",\n",
    "    \"sand_samples_nb\",\n",
    "    \"hard_strain_coniferous_samples_nb\",\n",
    "    \"hard_strain_hardwood_samples_nb\",\n",
    "    \"hard_strain_unknown_samples_nb\",\n",
    "    \"decomposed_strain_coniferous_samples_nb\",\n",
    "    \"decomposed_strain_hardwood_samples_nb\",\n",
    "    \"decomposed_strain_unknown_samples_nb\",\n",
    "    \"bark_coniferous_nb\",\n",
    "    \"bark_hardwood_samples_nb\",\n",
    "    \"bark_unknown_samples_nb\",\n",
    "    \"hard_coniferous_samples_nb\",\n",
    "    \"hard_hardwood_samples_nb\",\n",
    "    \"hard_unknown_samples_nb\",\n",
    "    \"decomposed_coniferous_samples_nb\",\n",
    "    \"decomposed_hardwood_samples_nb\",\n",
    "    \"decomposed_unknown_samples_nb\",\n",
    "]\n",
    "columns[\"studies\"] = [\n",
    "    \"sample_outside_complementary_study\",\n",
    "    \"cs_3_species_comparison\",\n",
    "    \"cs_2_species_comparison\",\n",
    "    \"cs_repeated_sampling\",\n",
    "    \"cs_repeated_analysis\",\n",
    "]\n",
    "columns[\"incertitudes\"] = [\n",
    "    \"aluminium_incertitude\",\n",
    "    \"arsenic_incertitude\",\n",
    "    \"calcium_incertitude\",\n",
    "    \"cadmium_incertitude\",\n",
    "    \"cobalt_incertitude\",\n",
    "    \"chromium_incertitude\",\n",
    "    \"copper_incertitude\",\n",
    "    \"iron_incertitude\",\n",
    "    \"mercury_incertitude\",\n",
    "    \"nitrogen_incertitude\",\n",
    "    \"sodium_incertitude\",\n",
    "    \"nickel_incertitude\",\n",
    "    \"lead_incertitude\",\n",
    "    \"sulfur_incertitude\",\n",
    "    \"zinc_incertitude\",\n",
    "]\n",
    "columns[\"categorical\"] = [\n",
    "    \"weather\",\n",
    "    \"tree_layer\",\n",
    "    \"tree_layer_complement\",\n",
    "    \"tree_cover\",\n",
    "    \"species\",\n",
    "]"
   ]
  },
  {
   "cell_type": "code",
   "execution_count": null,
   "metadata": {},
   "outputs": [],
   "source": [
    "moss_data_path = Path(\"../data/Mines_2024.xlsx\")\n",
    "df = loaders.from_moss_csv(moss_data_path).retrieve_df(\n",
    "    duplicates_handling_strategy=None\n",
    ")"
   ]
  },
  {
   "cell_type": "code",
   "execution_count": null,
   "metadata": {},
   "outputs": [],
   "source": [
    "# Correct Data\n",
    "df.loc[\n",
    "    df[\"tree_layer_complement\"].isna(), \"tree_layer_complement\"\n",
    "] = \"unspecified\""
   ]
  },
  {
   "cell_type": "code",
   "execution_count": null,
   "metadata": {},
   "outputs": [],
   "source": [
    "metadata = df[columns[\"metadata\"]]\n",
    "site_info = df[columns[\"site\"]]\n",
    "samples_info = df[columns[\"sample\"]]\n",
    "studies = df[columns[\"studies\"]]\n",
    "incertitudes = df[columns[\"incertitudes\"]]\n",
    "data = df.drop(\n",
    "    columns=columns[\"metadata\"]\n",
    "    + columns[\"sample\"]\n",
    "    + columns[\"studies\"]\n",
    "    + columns[\"site\"]\n",
    "    + columns[\"incertitudes\"]\n",
    ")\n",
    "\n",
    "# One-Hot encoding\n",
    "encoder = preprocessing.OneHotEncoder(\n",
    "    sparse_output=False, handle_unknown=\"ignore\"\n",
    ")\n",
    "categorical = pd.concat(\n",
    "    [data.pop(col) for col in columns[\"categorical\"]], axis=1\n",
    ")\n",
    "data_one_hot = encoder.fit_transform(categorical)\n",
    "categories = encoder.categories_\n",
    "unwrap_categories = []\n",
    "for i in range(len(categories)):\n",
    "    cat = columns[\"categorical\"][i]\n",
    "    cats = categories[i]\n",
    "    unwrap_categories.append([f\"{cat}_{c}\" for c in cats])\n",
    "categories_encoded = pd.DataFrame(\n",
    "    columns=np.concatenate(unwrap_categories), data=data_one_hot\n",
    ")\n",
    "data = pd.concat([data, categories_encoded], axis=1)\n",
    "\n",
    "# Remove Columns with nans\n",
    "print(\"The following columns contains NaN and will be removed :\")\n",
    "print(data.columns[data.isna().any(axis=0)])\n",
    "data = data.drop(columns=data.columns[data.isna().any(axis=0)])"
   ]
  },
  {
   "cell_type": "code",
   "execution_count": null,
   "metadata": {},
   "outputs": [],
   "source": [
    "print(data.columns)"
   ]
  },
  {
   "cell_type": "code",
   "execution_count": null,
   "metadata": {},
   "outputs": [],
   "source": [
    "pca = decomposition.PCA(n_components=32)\n",
    "data_pca = pca.fit_transform(data)"
   ]
  },
  {
   "cell_type": "code",
   "execution_count": null,
   "metadata": {},
   "outputs": [],
   "source": [
    "pca.explained_variance_"
   ]
  },
  {
   "cell_type": "code",
   "execution_count": null,
   "metadata": {},
   "outputs": [],
   "source": [
    "plt.scatter(\n",
    "    [i for i in range(len(pca.explained_variance_))],\n",
    "    np.log(pca.explained_variance_[::-1].cumsum()),\n",
    ")"
   ]
  },
  {
   "cell_type": "code",
   "execution_count": null,
   "metadata": {},
   "outputs": [],
   "source": [
    "df[\"species\"].shape"
   ]
  },
  {
   "cell_type": "code",
   "execution_count": null,
   "metadata": {},
   "outputs": [],
   "source": [
    "plt.scatter(data_pca[:, 0], data_pca[:, 1])"
   ]
  },
  {
   "cell_type": "code",
   "execution_count": null,
   "metadata": {},
   "outputs": [],
   "source": []
  },
  {
   "cell_type": "code",
   "execution_count": null,
   "metadata": {},
   "outputs": [],
   "source": []
  }
 ],
 "metadata": {
  "kernelspec": {
   "display_name": ".venv",
   "language": "python",
   "name": "python3"
  },
  "language_info": {
   "codemirror_mode": {
    "name": "ipython",
    "version": 3
   },
   "file_extension": ".py",
   "mimetype": "text/x-python",
   "name": "python",
   "nbconvert_exporter": "python",
   "pygments_lexer": "ipython3",
   "version": "3.11.6"
  }
 },
 "nbformat": 4,
 "nbformat_minor": 2
}
