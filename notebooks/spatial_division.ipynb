{
 "cells": [
  {
   "cell_type": "markdown",
   "metadata": {},
   "source": [
    "# Outils de Génération de Grille\n",
    "\n",
    "Ce notebook présente brièvement les outils de création de grille, utilisable par la suite lors d'un krigeage. Les objets utilisés permettent notamment de faire un pont entre les polygones générés par la librairie [`shapely`](https://shapely.readthedocs.io/en/stable/manual.html) et les objets de type `DbGrid` requis par [`gstlearn`](https://gstlearn.org/). Cela permet notamment de générer une grille régulière à partir d'un polygone défini dans un fichier GeoJson.\n",
    "\n",
    "Cela permet ainsi de maitriser plus facilement la finesse du maillage (et donc le temps d'exécution) tout en évitant de calculer des valeurs pour des points hors domaine."
   ]
  },
  {
   "cell_type": "code",
   "execution_count": null,
   "metadata": {},
   "outputs": [],
   "source": [
    "%load_ext autoreload\n",
    "%autoreload 2"
   ]
  },
  {
   "cell_type": "code",
   "execution_count": null,
   "metadata": {},
   "outputs": [],
   "source": [
    "import gstlearn.plot as gp\n",
    "from pathlib import Path\n",
    "import matplotlib.pyplot as plt\n",
    "from bramm_data_analysis.spatial import RegularGrid"
   ]
  },
  {
   "cell_type": "markdown",
   "metadata": {},
   "source": [
    "## Création de la Grille\n",
    "\n",
    "En bref, l'objet [`RegularGrid`](../src/bramm_data_analysis/spatial/grid.py), génère un maillage régulier sur une zone englobant le polygone frontière. Ensuite, une sélection des points internes au polygone est faite en utilisant [`geopandas`](https://geopandas.org/en/stable/index.html), pour ajouter une variable `inland` à la grille, utilisée comme sélection."
   ]
  },
  {
   "cell_type": "code",
   "execution_count": null,
   "metadata": {},
   "outputs": [],
   "source": [
    "# Create the Regular Grid from a given polygon\n",
    "step = 0.1\n",
    "grid = RegularGrid.from_boundary_path(Path(\"../data/metropole.json\"))\n",
    "france_grid = grid.retrieve_grid(step)\n",
    "france_grid.display()"
   ]
  },
  {
   "cell_type": "code",
   "execution_count": null,
   "metadata": {},
   "outputs": [],
   "source": [
    "# Visualization of the grid\n",
    "fig, ax = gp.initGeographic()\n",
    "ax.raster(france_grid, name=\"longitude\", flagLegend=True)\n",
    "ax.decoration(title=\"longitude\", xlabel=\"Easting\", ylabel=\"Northing\")\n",
    "plt.show()"
   ]
  },
  {
   "cell_type": "markdown",
   "metadata": {},
   "source": [
    "Il est également possible de modifier la valeur de `step` dans les cellules précédentes afin de générer des grilles au maillage plus ou moins fin.\n",
    "\n",
    ":warning: Le temps de calcul croît rapidement lorsque `step` diminue :warning:\n",
    "\n",
    "| Valeur de `step` | Temps de Calcul |\n",
    "| --- | --- |\n",
    "| 1 | ~0.5 s |\n",
    "| 0.1 | ~20 s |\n",
    "| 0.05 | ~3 min |"
   ]
  },
  {
   "cell_type": "markdown",
   "metadata": {},
   "source": []
  }
 ],
 "metadata": {
  "kernelspec": {
   "display_name": ".venv",
   "language": "python",
   "name": "python3"
  },
  "language_info": {
   "codemirror_mode": {
    "name": "ipython",
    "version": 3
   },
   "file_extension": ".py",
   "mimetype": "text/x-python",
   "name": "python",
   "nbconvert_exporter": "python",
   "pygments_lexer": "ipython3",
   "version": "3.11.6"
  }
 },
 "nbformat": 4,
 "nbformat_minor": 2
}
