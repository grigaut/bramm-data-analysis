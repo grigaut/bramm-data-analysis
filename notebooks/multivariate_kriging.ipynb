{
 "cells": [
  {
   "cell_type": "code",
   "execution_count": null,
   "metadata": {},
   "outputs": [],
   "source": [
    "%load_ext autoreload\n",
    "%autoreload 2"
   ]
  },
  {
   "cell_type": "markdown",
   "metadata": {},
   "source": [
    "https://soft.mines-paristech.fr/gstlearn/courses-latest/python/06a_Multivariate.html"
   ]
  },
  {
   "cell_type": "code",
   "execution_count": null,
   "metadata": {},
   "outputs": [],
   "source": [
    "from pathlib import Path\n",
    "import pandas as pd\n",
    "import numpy as np\n",
    "import matplotlib.pyplot as plt\n",
    "import gstlearn as gl\n",
    "import gstlearn.plot as gp\n",
    "import gstlearn.document as gdoc\n",
    "import gstools as gs\n",
    "\n",
    "verbose = True\n",
    "graphics = True\n",
    "gl.OptCst.define(gl.ECst.NTCOL, 6)\n",
    "gdoc.setNoScroll()"
   ]
  },
  {
   "cell_type": "markdown",
   "metadata": {},
   "source": [
    "# Data"
   ]
  },
  {
   "cell_type": "markdown",
   "metadata": {},
   "source": [
    "### Loading"
   ]
  },
  {
   "cell_type": "code",
   "execution_count": null,
   "metadata": {},
   "outputs": [],
   "source": [
    "from bramm_data_analysis import loaders\n",
    "\n",
    "# Moss\n",
    "moss_data_path = Path(\"../data/Mines_2024.xlsx\")\n",
    "df_moss = loaders.from_moss_csv(moss_data_path).retrieve_df()\n",
    "# RMQS\n",
    "rmqs_data_path = Path(\"../data/RMQS.csv\")\n",
    "df_rmqs = loaders.from_rmqs_csv(rmqs_data_path).retrieve_df()"
   ]
  },
  {
   "cell_type": "markdown",
   "metadata": {},
   "source": [
    "### Matching\n",
    "\n",
    "See more in the [matching-related notebook](matching.ipynb)."
   ]
  },
  {
   "cell_type": "code",
   "execution_count": null,
   "metadata": {},
   "outputs": [],
   "source": [
    "from bramm_data_analysis.matching import Matcher\n",
    "\n",
    "data_matcher = Matcher(\n",
    "    km_threshold=5,\n",
    "    year_threshold=2006,\n",
    ")\n",
    "matched_df = data_matcher.match_rmqs_to_moss(\n",
    "    df_moss,\n",
    "    df_rmqs,\n",
    "    radians=False,\n",
    ")\n",
    "\n",
    "print(\n",
    "    f\" Year Threshold : {data_matcher.year_threshold} \\n\",\n",
    "    f\"Distance Threshold : {data_matcher.km_threshold} km \\n\",\n",
    "    f\"Conserved : {matched_df.shape[0]} / {df_moss.shape[0]}\",\n",
    ")"
   ]
  },
  {
   "cell_type": "markdown",
   "metadata": {},
   "source": [
    "# MultiVariate Analysis"
   ]
  },
  {
   "cell_type": "markdown",
   "metadata": {},
   "source": [
    "### Variable Selection"
   ]
  },
  {
   "cell_type": "code",
   "execution_count": null,
   "metadata": {},
   "outputs": [],
   "source": [
    "x1 = \"longitude\"\n",
    "x2 = \"latitude\"\n",
    "z1 = \"copper\"\n",
    "z2 = \"cu_tot_hf\"\n",
    "\n",
    "df = matched_df.filter([\"longitude_rmqs\", \"latitude_rmqs\", z1, z2]).rename(\n",
    "    columns={\n",
    "        \"latitude_rmqs\": \"latitude\",\n",
    "        \"longitude_rmqs\": \"longitude\",\n",
    "    },\n",
    ")\n",
    "df[df[z2] == \"ND\"] = np.nan\n",
    "df[z2] = df[z2].astype(\"float\")\n",
    "df_rmqs[df_rmqs[z2] == \"ND\"] = np.nan\n",
    "df_rmqs = df_rmqs[~df_rmqs[z2].isna()]\n",
    "df_rmqs[z2] = df_rmqs[z2].astype(\"float\")"
   ]
  },
  {
   "cell_type": "code",
   "execution_count": null,
   "metadata": {},
   "outputs": [],
   "source": [
    "# Observations\n",
    "observations = gl.Db_fromPanda(\n",
    "    df.filter([x1, x2, z1, z2]).drop_duplicates([x1, x2])\n",
    ")\n",
    "observations.setLocators([x1, x2], gl.ELoc.X)\n",
    "observations.setLocator(z1, gl.ELoc.Z)\n",
    "\n",
    "# Grid\n",
    "targets = gl.Db_fromPanda(\n",
    "    df_rmqs.filter([x1, x2, z2]).drop_duplicates([x1, x2])\n",
    ")\n",
    "targets.setLocators([x1, x2], gl.ELoc.X)\n",
    "targets.setLocator(z2, gl.ELoc.Z)"
   ]
  },
  {
   "cell_type": "code",
   "execution_count": null,
   "metadata": {},
   "outputs": [],
   "source": [
    "ax = targets.plot(z2)"
   ]
  },
  {
   "cell_type": "code",
   "execution_count": null,
   "metadata": {},
   "outputs": [],
   "source": [
    "gl.dbStatisticsPrint(\n",
    "    db=observations,\n",
    "    names=[z2, z1],\n",
    "    opers=gl.EStatOption.fromKeys([\"NUM\"]),\n",
    "    flagIso=False,\n",
    "    title=\"Number of observations\",\n",
    ")"
   ]
  },
  {
   "cell_type": "code",
   "execution_count": null,
   "metadata": {},
   "outputs": [],
   "source": [
    "gl.dbStatisticsPrint(\n",
    "    db=observations,\n",
    "    names=[z1, z2],\n",
    "    opers=gl.EStatOption.fromKeys([\"MEAN\", \"MINI\", \"MAXI\"]),\n",
    "    flagIso=False,\n",
    "    title=\"Statistics of observations\",\n",
    ")"
   ]
  },
  {
   "cell_type": "code",
   "execution_count": null,
   "metadata": {},
   "outputs": [],
   "source": [
    "gl.dbStatisticsPrint(\n",
    "    db=targets,\n",
    "    names=[z2],\n",
    "    opers=gl.EStatOption.fromKeys([\"MEAN\", \"MINI\", \"MAXI\"]),\n",
    "    flagIso=False,\n",
    "    title=\"Statistics of target\",\n",
    ")"
   ]
  },
  {
   "cell_type": "code",
   "execution_count": null,
   "metadata": {},
   "outputs": [],
   "source": [
    "gl.dbStatisticsPrint(\n",
    "    db=observations,\n",
    "    names=[z1, z2],\n",
    "    opers=gl.EStatOption.fromKeys([\"MEAN\", \"MINI\", \"MAXI\"]),\n",
    "    flagIso=True,\n",
    "    title=\"Filtered statistics of observations\",\n",
    ")"
   ]
  },
  {
   "cell_type": "code",
   "execution_count": null,
   "metadata": {},
   "outputs": [],
   "source": [
    "ax = targets.plot(z2)\n",
    "ax = observations.plot(\n",
    "    nameSize=z1,\n",
    "    color=\"yellow\",\n",
    "    sizmin=0.1,\n",
    "    sizmax=20,\n",
    ")"
   ]
  },
  {
   "cell_type": "code",
   "execution_count": null,
   "metadata": {},
   "outputs": [],
   "source": [
    "ax = gp.correlation(\n",
    "    observations, namex=z2, namey=z1, asPoint=True, regrLine=True\n",
    ")\n",
    "ax.decoration(title=f\"Correlation between {z1} and {z2}\")"
   ]
  },
  {
   "cell_type": "code",
   "execution_count": null,
   "metadata": {},
   "outputs": [],
   "source": [
    "varioparam = gl.VarioParam.createMultiple(ndir=2, npas=30, dpas=1)\n",
    "vario_raw2dir = gl.Vario(varioparam)\n",
    "err = vario_raw2dir.compute(observations)"
   ]
  },
  {
   "cell_type": "code",
   "execution_count": null,
   "metadata": {},
   "outputs": [],
   "source": [
    "fitmod_raw = gl.Model()\n",
    "err = fitmod_raw.fit(\n",
    "    vario_raw2dir,\n",
    "    types=[gl.ECov.NUGGET, gl.ECov.EXPONENTIAL, gl.ECov.CUBIC, gl.ECov.LINEAR],\n",
    ")\n",
    "fitmod_raw.setDriftIRF(0, 0)"
   ]
  },
  {
   "cell_type": "code",
   "execution_count": null,
   "metadata": {},
   "outputs": [],
   "source": [
    "ax = gp.varmod(vario_raw2dir, fitmod_raw)\n",
    "ax.decoration(\n",
    "    title=f\"Experimental and fitted variogram models - Raw {z2} observations\",\n",
    "    xlabel=\"Distance (km)\",\n",
    "    ylabel=\"Variogram\",\n",
    ")"
   ]
  },
  {
   "cell_type": "code",
   "execution_count": null,
   "metadata": {},
   "outputs": [],
   "source": [
    "uniqueNeigh = gl.NeighUnique.create()"
   ]
  },
  {
   "cell_type": "code",
   "execution_count": null,
   "metadata": {},
   "outputs": [],
   "source": [
    "err = gl.kriging(\n",
    "    dbin=observations,\n",
    "    dbout=targets,\n",
    "    model=fitmod_raw,\n",
    "    neigh=uniqueNeigh,\n",
    "    namconv=gl.NamingConvention.create(prefix=\"OK\"),\n",
    ")"
   ]
  },
  {
   "cell_type": "code",
   "execution_count": null,
   "metadata": {},
   "outputs": [],
   "source": [
    "ax = targets.plot(\"OK*estim\")\n",
    "ax = observations.plot(flagCst=True, color=\"black\")\n",
    "ax.decoration(title=f\"{z1} - Ordinary Kriging\")"
   ]
  },
  {
   "cell_type": "code",
   "execution_count": null,
   "metadata": {},
   "outputs": [],
   "source": [
    "opers = gl.EStatOption.fromKeys([\"NUM\", \"MINI\", \"MAXI\", \"MEAN\", \"STDV\"])\n",
    "gl.dbStatisticsPrint(\n",
    "    targets,\n",
    "    names=([\"OK.T*\"]),\n",
    "    opers=opers,\n",
    "    title=\"Statistics on the Ordinary Kriging:\",\n",
    ")"
   ]
  },
  {
   "cell_type": "code",
   "execution_count": null,
   "metadata": {},
   "outputs": [],
   "source": [
    "## Compute cross-validation\n",
    "err = gl.xvalid(\n",
    "    observations,\n",
    "    model=fitmod_raw,\n",
    "    neigh=uniqueNeigh,\n",
    "    namconv=gl.NamingConvention.create(prefix=\"CV_OK\", flag_locator=False),\n",
    ")"
   ]
  },
  {
   "cell_type": "code",
   "execution_count": null,
   "metadata": {},
   "outputs": [],
   "source": [
    "mse = np.nanmean(np.square(observations.getColumn(\"CV_OK*esterr*\")))\n",
    "print(\"Mean squared cross-validation error:\", round(mse, 3))\n",
    "\n",
    "mse = np.nanmean(np.square(observations.getColumn(\"CV_OK*stderr*\")))\n",
    "print(\"Mean squared standardized error:\", round(mse, 3))"
   ]
  },
  {
   "cell_type": "code",
   "execution_count": null,
   "metadata": {},
   "outputs": [],
   "source": [
    "observations.setLocators(names=[z1, z2], locatorType=gl.ELoc.Z)\n",
    "observations"
   ]
  },
  {
   "cell_type": "code",
   "execution_count": null,
   "metadata": {},
   "outputs": [],
   "source": [
    "varioexp2var = gl.Vario.create(varioparam)\n",
    "err = varioexp2var.compute(observations)\n",
    "ax = gp.varmod(varioexp2var)"
   ]
  },
  {
   "cell_type": "code",
   "execution_count": null,
   "metadata": {},
   "outputs": [],
   "source": [
    "fitmod2var = gl.Model()\n",
    "err = fitmod2var.fit(\n",
    "    varioexp2var,\n",
    "    types=[gl.ECov.NUGGET, gl.ECov.EXPONENTIAL, gl.ECov.CUBIC, gl.ECov.LINEAR],\n",
    ")\n",
    "fitmod2var.setDriftIRF(0, 0)"
   ]
  },
  {
   "cell_type": "code",
   "execution_count": null,
   "metadata": {},
   "outputs": [],
   "source": [
    "ax = gp.varmod(varioexp2var, fitmod2var, lw=2)\n",
    "gp.decoration(ax, title=f\"{z1} and {z2}\")"
   ]
  },
  {
   "cell_type": "code",
   "execution_count": null,
   "metadata": {},
   "outputs": [],
   "source": [
    "err = gl.kriging(\n",
    "    dbin=observations,\n",
    "    dbout=targets,\n",
    "    model=fitmod2var,\n",
    "    neigh=uniqueNeigh,\n",
    "    namconv=gl.NamingConvention.create(prefix=\"COK\"),\n",
    ")"
   ]
  },
  {
   "cell_type": "code",
   "execution_count": null,
   "metadata": {},
   "outputs": [],
   "source": [
    "ax = targets.plot(f\"COK.{z1}*estim\")\n",
    "ax = observations.plot(flagCst=True, color=\"black\")\n",
    "ax.decoration(title=f\"{z1} - CoKriging\")"
   ]
  },
  {
   "cell_type": "code",
   "execution_count": null,
   "metadata": {},
   "outputs": [],
   "source": [
    "opers = gl.EStatOption.fromKeys([\"NUM\", \"MINI\", \"MAXI\", \"MEAN\", \"STDV\"])\n",
    "gl.dbStatisticsPrint(\n",
    "    targets,\n",
    "    names=([\"COK.*\"]),\n",
    "    opers=opers,\n",
    "    title=\"Statistics on the CoKriging predictions\",\n",
    ")"
   ]
  },
  {
   "cell_type": "code",
   "execution_count": null,
   "metadata": {},
   "outputs": [],
   "source": [
    "ax = gp.correlation(\n",
    "    targets,\n",
    "    namex=\"OK.*estim\",\n",
    "    namey=\"COK.copper.estim\",\n",
    "    bissLine=True,\n",
    "    bins=100,\n",
    "    cmin=1,\n",
    ")\n",
    "ax.decoration(xlabel=\"Ordinary Kriging\", ylabel=\"Ordinary CoKriging\")"
   ]
  },
  {
   "cell_type": "code",
   "execution_count": null,
   "metadata": {},
   "outputs": [],
   "source": []
  }
 ],
 "metadata": {
  "kernelspec": {
   "display_name": ".venv",
   "language": "python",
   "name": "python3"
  },
  "language_info": {
   "codemirror_mode": {
    "name": "ipython",
    "version": 3
   },
   "file_extension": ".py",
   "mimetype": "text/x-python",
   "name": "python",
   "nbconvert_exporter": "python",
   "pygments_lexer": "ipython3",
   "version": "3.11.6"
  }
 },
 "nbformat": 4,
 "nbformat_minor": 2
}
