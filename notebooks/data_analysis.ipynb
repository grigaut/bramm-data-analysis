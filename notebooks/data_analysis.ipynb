{
 "cells": [
  {
   "cell_type": "code",
   "execution_count": null,
   "metadata": {},
   "outputs": [],
   "source": [
    "%load_ext autoreload\n",
    "%autoreload 2"
   ]
  },
  {
   "cell_type": "code",
   "execution_count": null,
   "metadata": {},
   "outputs": [],
   "source": [
    "from bramm_data_analysis import loaders\n",
    "import matplotlib.pyplot as plt\n",
    "from pathlib import Path\n",
    "import numpy as np\n",
    "import pandas as pd"
   ]
  },
  {
   "cell_type": "code",
   "execution_count": null,
   "metadata": {},
   "outputs": [],
   "source": [
    "moss_data_path = Path(\"../data/Mines_2024.xlsx\")\n",
    "df_moss = loaders.from_moss_csv(moss_data_path).retrieve_filtered_df(\n",
    "    [\"longitude\", \"latitude\", \"date\", \"copper\"],\n",
    "    duplicates_handling_strategy=\"mean\",\n",
    ")\n",
    "db_moss = loaders.from_moss_csv(moss_data_path).retrieve_db(\n",
    "    xs=[\"longitude\", \"latitude\"],\n",
    "    zs=\"copper\",\n",
    "    duplicates_handling_strategy=\"mean\",\n",
    ")"
   ]
  },
  {
   "cell_type": "code",
   "execution_count": null,
   "metadata": {},
   "outputs": [],
   "source": [
    "rmqs_data_path = Path(\"../data/RMQS.csv\")\n",
    "df_rmqs = loaders.from_rmqs_csv(rmqs_data_path).retrieve_filtered_df(\n",
    "    [\"longitude\", \"latitude\", \"date_complete\", \"cu_tot_hf\"],\n",
    "    duplicates_handling_strategy=\"mean\",\n",
    ")"
   ]
  },
  {
   "cell_type": "code",
   "execution_count": null,
   "metadata": {},
   "outputs": [],
   "source": [
    "import geopandas as gpd"
   ]
  },
  {
   "cell_type": "code",
   "execution_count": null,
   "metadata": {},
   "outputs": [],
   "source": [
    "gpd.GeoDataFrame(\n",
    "    data=df_moss,\n",
    "    geometry=gpd.points_from_xy(x=df_moss[\"longitude\"], y=df_moss[\"latitude\"]),\n",
    ").plot(\"copper\", legend=True)\n",
    "plt.show()"
   ]
  },
  {
   "cell_type": "code",
   "execution_count": null,
   "metadata": {},
   "outputs": [],
   "source": []
  }
 ],
 "metadata": {
  "kernelspec": {
   "display_name": ".venv",
   "language": "python",
   "name": "python3"
  },
  "language_info": {
   "codemirror_mode": {
    "name": "ipython",
    "version": 3
   },
   "file_extension": ".py",
   "mimetype": "text/x-python",
   "name": "python",
   "nbconvert_exporter": "python",
   "pygments_lexer": "ipython3",
   "version": "3.11.6"
  }
 },
 "nbformat": 4,
 "nbformat_minor": 2
}
